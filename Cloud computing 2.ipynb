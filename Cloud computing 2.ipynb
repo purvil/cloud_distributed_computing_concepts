{
 "cells": [
  {
   "cell_type": "markdown",
   "metadata": {},
   "source": [
    "# Leader Election\n",
    "* Bank account details are replicated at a few servers, but one of these servers are responsible for all reads and writes, that is leader among replicas.\n",
    "    * What is leader crash?\n",
    "    * what if there are more than 1 leader?\n",
    "    * WHat if servers disagree for leader?\n",
    "* In the sequencer based algorithm for total ordering  of multicast, the sequencer is a leader\n",
    "* Group of NTP servers, who is root servers.\n",
    "* Apache zookeeper, google's chubby\n",
    "* From group of process we have to choose leader and let everyone know.\n",
    "* N process, each process has unique id like ip address and port number, Failure may occur during election.\n",
    "\n",
    "### Calling for election\n",
    "* ANy process can cal for an election\n",
    "* A process can call for at most one election at a time\n",
    "* Multiple process can call for election. All of them together yield single leader.\n",
    "* Result of election should not depend on which process calls for it.\n",
    "* At the end of election protocol the non faulty process with the best election attribute value is elected. Common attribute, leader with highest id. or fasted cpu or most disk space, or most number of files."
   ]
  },
  {
   "cell_type": "markdown",
   "metadata": {},
   "source": [
    "### Ring leader election\n",
    "* Nprocess are in logical ring, ith process has communication channel to (i+1) % N.\n",
    "* All message are sent clockwise around the ring.\n",
    "![](images/ring.jpg)"
   ]
  },
  {
   "cell_type": "markdown",
   "metadata": {},
   "source": [
    "* Any process Pi, which discovers the old coordinator has failed initiate an Election message with its own id:attr.\n",
    "* When other process receive this message, it compares it value with own attributes.\n",
    "* If attribute is greater, then forward the message\n",
    "* If smaller then overwrite with own id:attr and forwards it.\n",
    "* After making one circle message again come to same process ,then that process send Elected message to neighbor with its id.\n",
    "* ALl process mark their elected variable = elected process id\n",
    "* 3N - 1 message in worst case. Best case then 2N messages.\n",
    "* Multiple initiator\n",
    "    - Each process cache initiator of election.\n",
    "    - Each process suppresses election message of any lower id initiators.\n",
    "    - Update cache if receive higher id initiator's message\n",
    "* Effect of failure:\n",
    "    - Elected node failed then, predecessor detect failure then start new election.\n",
    "\n",
    "###  Google'e Chubby\n",
    "* System for locking\n",
    "* Group of replicas, need to have a master server elected at all time.\n",
    "* Potential leader tries to get votes from other servers\n",
    "* Each server votes for at most one leader\n",
    "* Server with majority of votes become new leader and inform everyone.\n",
    "* After election finishes other servers promise not to run election again for a while. While = master lease time = few seconds\n",
    "* Master lease can be renewed by the master as long as it continues to win a majority each time.\n",
    "* If master fails, automatic re election will conducted.\n",
    "\n",
    "### Zookeeper\n",
    "* Each server creates new sequence number (ids). Elect the highest id server as leader.\n",
    "* Everyone monitors current master, on failure re election, it can lead to flood of election messages\n",
    "* Each process monitors its next higher id process.\n",
    "* If that successor was the leader and it has failed, become the new leader.\n",
    "* What if id conflicts?\n",
    "    - 2 phase commit, Leader sends NEW_lEADER message to all. Each process responds with ACK to at most 1 leader that is one with highest process id. Leader waits for a majority of ACKS and then sends commit to all. On commit everyone update leader variable.\n",
    "    \n",
    "### Bully algorithm\n",
    "* All process know other process id.\n",
    "* When a process finds the coordinator has failed via failure detector,\n",
    "    - If it knows it is highest id, it elects it self as coordinator and send message to everyone with lower id, that election is completed. \n",
    "    - Else initiates an election by sending Election message\n",
    "        - Election message is sent to process with higher id.\n",
    "        - If receives no answer within timeout, calls itself leader and sends message to all lower id process that election completed I am leader\n",
    "        - If answer receive from high id process, wait for coordinator message, if not receive within timeout start new election."
   ]
  },
  {
   "cell_type": "markdown",
   "metadata": {},
   "source": [
    "# Mutual Exclusion\n",
    "* Bank's server in cloud: simultaneously 2 customer put money in my account. Initially balance was 1000. BOth customer trying to add 10000. Both read initial value concurrently from bank's server. Both add 10000 to this amount and write final amount to server.\n",
    "* To resolve it we can provide mutual exclusive access to account, allow only 1 client to access account.\n",
    "* In Distributed system locking  files is needed \n",
    "* Accessing objects in safe and consistent way\n",
    "* Chubby is google's locking system\n",
    "* Apache zookeeper is used to coordinate among server.\n",
    "* Critical section problem\n",
    "    - Piece of code for which we need to ensure there is at most one process is executing it at any given point of time.\n",
    "    - enter() to enter in critical section\n",
    "    - AccessResource() to run critical section code\n",
    "    - exit() to exit critical section.\n",
    "* For single OS structure,\n",
    "    - We can use Semaphores, mutexes, condition variables, monitors.\n",
    "    - Semaphore is an integer that can be accessed via 2 special function\n",
    "    - Semaphore S = 1// mac allowed process\n",
    "    - wait(S) before entering the section and signal(S) to exit the section.\n",
    "* In distributed system shared variable approach is not possible."
   ]
  },
  {
   "cell_type": "markdown",
   "metadata": {},
   "source": [
    "### Distributed system Central algorithm\n",
    "* Elect central master/leader using election algorithm\n",
    "* Master keeps queue of waiting process, who wish to access the CS.\n",
    "* A special token which allows its holder to access CS.\n",
    "* Action of any process in a group\n",
    "    - enter(): send request to master, wait for token from master\n",
    "    - exit() : Send back token to master"
   ]
  },
  {
   "cell_type": "markdown",
   "metadata": {},
   "source": [
    "* 2 message for each enter, 1 message for each exit\n",
    "* Master is single point of failure."
   ]
  },
  {
   "cell_type": "markdown",
   "metadata": {},
   "source": [
    "### Ring based mutual exclusion\n",
    "![](images/ring_mutual.jpg)"
   ]
  },
  {
   "cell_type": "markdown",
   "metadata": {},
   "source": [
    "* N process organized in virtual ring.\n",
    "* Each process can send  message to its successor in ring\n",
    "* Exactly 1 token\n",
    "* enter(): wait until you get token\n",
    "* exit(): pass token to successor\n",
    "* If receive token and currently not in enter(), pass to successor.\n",
    "* Per request message might be as high as N\n",
    "* 1 message per exit()"
   ]
  },
  {
   "cell_type": "markdown",
   "metadata": {},
   "source": [
    "### Ricart-Agrawala'a problem\n",
    "*  When process Pi want to enter CS it call enter(), it multicast message to all process, request <T,Pi> where T = current Lamport timestamp at Pi\n",
    "* Wait until all other process have responded positively to request. it change state to Held.\n",
    "* Request are granted in order of causality\n",
    "* Pi in request <T, Pi> is used to break ties, as lamport timestamp are not unique for concurrent events.\n",
    "* Suppose process Pi receive request of <Tj, Pj>\n",
    "    - if Pi's state is Held or wanted and (Ti, i) < (Tj, j) add request to local queue\n",
    "    - else reply to Pj\n",
    "* exit() at Pi\n",
    "    - change state to released and send reply to all queued process\n",
    "\n",
    "### Maekawa's algorithms\n",
    "* Above algo require response from all the process in a group.\n",
    "* Instead we can get reply from some of the process.\n",
    "* Each process Pi asscoated with voting set Vi\n",
    "* Each process belongs to its own voting set.\n",
    "* Intersection of any 2 voting state must not be empty\n",
    "* Each voting set has size K. Each process belongs to M other voting set, K = M = $\\sqrt{N}$ works best"
   ]
  },
  {
   "cell_type": "markdown",
   "metadata": {},
   "source": [
    "* one way of doing it is put N process in $\\sqrt{N}$ by $\\sqrt{N}$ matrix and for each Pi, its voting set Vi = row containing Pi + column containing Pi"
   ]
  },
  {
   "cell_type": "markdown",
   "metadata": {},
   "source": [
    "![](images/Maekawa.jpg)"
   ]
  },
  {
   "cell_type": "markdown",
   "metadata": {},
   "source": [
    "* Each process request permission from only its voting set members.\n",
    "* Each process gives permission to at most 1 process at a time.\n",
    "* state = released, voted = false\n",
    "* enter() at process Pi\n",
    "    - state = wanted\n",
    "    - Multicast request message to all processes in Vi\n",
    "    - wait for Reply message from all Vi processes\n",
    "    - state = held\n",
    "* exit()\n",
    "    - state = released\n",
    "    - Multicast Release to all process in Vi.\n",
    "* If Pi receive request fro Pj\n",
    "    - if (state == Held or voted =true)\n",
    "        - queue request\n",
    "    - send Reply to Pj and set voted = true\n",
    "    - When Pi receives a release from Pj\n",
    "    - if (queue empty)\n",
    "        - voted = false\n",
    "    - else\n",
    "        - dequeue head of queue, say Pk\n",
    "        - send reply to Pk\n",
    "        - voted = true."
   ]
  },
  {
   "cell_type": "markdown",
   "metadata": {},
   "source": [
    "* only 1 group's one process will win,\n",
    "    - suppose Pi in 2 group it can send yes to only one of the process of specific group."
   ]
  },
  {
   "cell_type": "markdown",
   "metadata": {},
   "source": [
    "* 2$\\sqrt{N}$ messages per enter, $\\sqrt{N}$ messages per exit"
   ]
  },
  {
   "cell_type": "markdown",
   "metadata": {},
   "source": [
    "--------------------\n",
    "--------------------"
   ]
  },
  {
   "cell_type": "markdown",
   "metadata": {},
   "source": [
    "### RPC\n",
    "* Remote procedure call\n",
    "* Allow to call other process' function.\n",
    "* Other variant in object based model is RMI (Remote Method Invocation)\n",
    "* Local procedure call LPC\n",
    "    - Call from 1 function to other function in the same process\n",
    "    - Use stack to pass arguments and return values\n",
    "    - Access object via pointer or reference\n",
    "    - LPC has exactly once semantics. Function gets called EXACTLy once.\n",
    "* In RPC we can not use pointer, we use global reference like IP + Port + object number.\n",
    "* RPC can also be in same host, like between two different process in same computer\n",
    "* Problem is \n",
    "    - Request message might be dropped\n",
    "    - Reply message is dropped\n",
    "    - Called process fails before or after execution of called function.\n",
    "    - Request message is duplicated.\n",
    "![](images/RPC.jpg)"
   ]
  },
  {
   "cell_type": "markdown",
   "metadata": {},
   "source": [
    "* Idempotent operation can tolerate at least 1, semantics .For example x = 1\n",
    "* Non idempotent like x+=1 .\n",
    "![](images/stub.jpg)"
   ]
  },
  {
   "cell_type": "markdown",
   "metadata": {},
   "source": [
    "* Client stub: same function signature as callee(). Allows same caller() code for LPC and RPC\n",
    "* Communication module, forwards requests and replies to appropriate hosts server\n",
    "* Dispatcher: Selects which server stub to forward request to.\n",
    "* Server stub: Calls callee(), allows it to return value"
   ]
  },
  {
   "cell_type": "markdown",
   "metadata": {},
   "source": [
    "* Programmer write code only for caller and callee. Code for remaining components generates automatically from function signature.\n",
    "* Ex. CORBA, Sun RPC, JAVA RMI.\n",
    "\n",
    "#### Marshalling\n",
    "* Different architecture use different ways of representing data,\n",
    "    - Big endian(IBM, system 360), Little endian (Intel)\n",
    "* Caller and callee process uses its own platform dependent way of storing data, middleware has a common data representation (CDR), platform independent.\n",
    "* Caller process converts argument to CDR, (Marshalling)\n",
    "* Callee process extracts argument from message into own platform dependent form (Unmarshalling)\n",
    "* Return values are again marshalled and unmarshalled."
   ]
  },
  {
   "cell_type": "markdown",
   "metadata": {},
   "source": [
    "### Transaction\n",
    "* Series of operations executed by client\n",
    "* Each operation is RPC to server\n",
    "* Transaction either complete and commit at server or aborts and no effect on server.\n",
    "![](images/rpc_transaction.png)"
   ]
  },
  {
   "cell_type": "markdown",
   "metadata": {},
   "source": [
    "* Atomicity : all or nothing, a transaction should complete successfully, so its effects are recorded in the server objects or it has no effects at all.\n",
    "* Isolation: Need transaction to be indivisible (atomic) from other transaction's point of view\n",
    "    - No access to intermediate result or state of other transaction\n",
    "    - Free from interference from other transaction.\n",
    "* ACID property of transaction\n",
    "    - Atomicity: All or nothing\n",
    "    - Consistency: If the server starts in the consistent state, the transaction end server in consistent state\n",
    "    - Isolation: Transaction must be performed without interference from other transaction. Non final effects of transaction must not be visible to other transaction.\n",
    "    - Durability: After transaction completed successfully, all its effects are saved in permanent storage.\n",
    "* When we do not care about ACID\n",
    "![](images/loss_update.JPG)"
   ]
  },
  {
   "cell_type": "markdown",
   "metadata": {},
   "source": [
    "![](images/Untitled.png)"
   ]
  },
  {
   "cell_type": "markdown",
   "metadata": {},
   "source": [
    "* To prevent it we can execute transaction one at a time, but we care about number of transaction per seconds for performance and revenue.\n",
    "\n",
    "### Serial Equivalence\n",
    "* We have multiple transaction and interleave operation of all transaction in such a way that it output like they have executed serially.\n",
    "* 2 operations are said to be conflicting operations. if their combined effect depends on the order they are executed.\n",
    "    * read(x) and write(x)\n",
    "    * write(x) and read(x)\n",
    "    * write(x) and write(x)\n",
    "* "
   ]
  },
  {
   "cell_type": "code",
   "execution_count": null,
   "metadata": {},
   "outputs": [],
   "source": []
  }
 ],
 "metadata": {
  "kernelspec": {
   "display_name": "Python 3",
   "language": "python",
   "name": "python3"
  },
  "language_info": {
   "codemirror_mode": {
    "name": "ipython",
    "version": 3
   },
   "file_extension": ".py",
   "mimetype": "text/x-python",
   "name": "python",
   "nbconvert_exporter": "python",
   "pygments_lexer": "ipython3",
   "version": "3.7.1"
  }
 },
 "nbformat": 4,
 "nbformat_minor": 2
}
