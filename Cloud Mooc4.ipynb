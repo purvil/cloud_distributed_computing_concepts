{
 "cells": [
  {
   "cell_type": "markdown",
   "metadata": {},
   "source": [
    "## Distribution of Data analytics Tools\n",
    "\n",
    "### Hortonworks\n",
    "\n",
    "#### HDP(Hortonworks Data platform)\n",
    "![](images/HDP.jpg)\n",
    "* Zepplin : Web based notebook that enables interactive data analytics. Takes lots of different language.\n",
    "* Ambari : Source management platform for provisioning, managing, monitoring and securing Apache Hadoop clusters.\n",
    "* Tez: Helps to understand and optimize cluster resource usage. Optimize or accelerate individual SQL or Pig jobs.\n",
    "* Hive: Allows to write and execute SQL queries on the cluster. Show the history of all past jobs. Allows to see graphical view of execution plan.\n",
    "* Pig: Allows writing and running pig scripts. Extract-transform-load data pipelines\n",
    "    - Extensible: Can add custom function to meet their processing requirement\n",
    "    - Easily programmed: Complex task can be represented as data flow sequences\n",
    "    - Self optimizing \n",
    "* Capacity scheduler: allows YARN workload management\n",
    "* Files: ALlows the user to manage, browse and upload files and folders in HDFS\n",
    "* Solr: Full text search and near real time indexing.\n",
    "* MapReduce : Batch processing framework for structure and unstructured data\n",
    "    - Simple we can write in any application\n",
    "    - Scalability: It can process peta bytes of data stored in HDFS\n",
    "    - Speed: Parallel processing\n",
    "    - Recovery: \n",
    "    - Minimal data motion: Data locality.\n",
    "#### Hortonworks data flow (HDF):\n",
    "* NiFi, Kafka, Storm provides real time dataflow management and streaming analytics\n",
    "* Enables real time data collection, curation, analysis and delivery of data to and form any source.\n",
    "\n",
    "### Cloudera\n",
    "![](images/CLoudera.jpg)"
   ]
  },
  {
   "cell_type": "markdown",
   "metadata": {},
   "source": [
    "### MapR"
   ]
  },
  {
   "cell_type": "code",
   "execution_count": null,
   "metadata": {},
   "outputs": [],
   "source": []
  }
 ],
 "metadata": {
  "kernelspec": {
   "display_name": "Python 3",
   "language": "python",
   "name": "python3"
  },
  "language_info": {
   "codemirror_mode": {
    "name": "ipython",
    "version": 3
   },
   "file_extension": ".py",
   "mimetype": "text/x-python",
   "name": "python",
   "nbconvert_exporter": "python",
   "pygments_lexer": "ipython3",
   "version": "3.7.1"
  }
 },
 "nbformat": 4,
 "nbformat_minor": 2
}
