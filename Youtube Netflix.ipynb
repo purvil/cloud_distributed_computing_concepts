{
 "cells": [
  {
   "cell_type": "markdown",
   "metadata": {},
   "source": [
    "* Users of the service can upload, view, share, rate, and report videos as well as add comments on videos."
   ]
  },
  {
   "cell_type": "markdown",
   "metadata": {},
   "source": [
    "# Requirements"
   ]
  },
  {
   "cell_type": "markdown",
   "metadata": {},
   "source": [
    "* Users should be able to upload videos.\n",
    "* Users should be able to share and view videos.\n",
    "* Users should be able to perform searches based on video titles.\n",
    "* Our services should be able to record stats of videos, e.g., likes/dislikes, total number of views, etc.\n",
    "* Users should be able to add and view comments on videos."
   ]
  },
  {
   "cell_type": "markdown",
   "metadata": {},
   "source": [
    "* The system should be highly reliable, any video uploaded should not be lost.\n",
    "* The system should be highly available. Consistency can take a hit (in the interest of availability); if a user doesn’t see a video for a while, it should be fine.\n",
    "* Users should have a real time experience while watching videos and should not feel any lag."
   ]
  },
  {
   "cell_type": "markdown",
   "metadata": {},
   "source": [
    "*  Video recommendations, most popular videos, channels, subscriptions, watch later, favorites, etc."
   ]
  },
  {
   "cell_type": "markdown",
   "metadata": {},
   "source": [
    "# Capacity"
   ]
  },
  {
   "cell_type": "markdown",
   "metadata": {},
   "source": [
    "* Let’s assume we have 1.5 billion total users, 800 million of whom are daily active users. If, on average, a user views five videos per day then the total video-views per second would be:\n",
    "    - 800M * 5 / 86400 sec => 46K videos/sec\n",
    "* Let’s assume our upload:view ratio is 1:200, i.e., for every video upload we have 200 videos viewed, giving us 230 videos uploaded per second.\n",
    "    - 46K / 200 => 230 videos/sec\n",
    "* Storage Estimates: Let’s assume that every minute 500 hours worth of videos are uploaded to Youtube. If on average, one minute of video needs 50MB of storage (videos need to be stored in multiple formats), the total storage needed for videos uploaded in a minute would be:\n",
    "\n",
    "    - 500 hours * 60 min * 50MB => 1500 GB/min (25 GB/sec)\n",
    "* These numbers are estimated with ignoring video compression and replication, which would change our estimates.\n",
    "* Bandwidth estimates: With 500 hours of video uploads per minute and assuming each video upload takes a bandwidth of 10MB/min, we would be getting 300GB of uploads every minute.\n",
    "    - 500 hours * 60 mins * 10MB => 300GB/min (5GB/sec)\n",
    "* Assuming an upload:view ratio of 1:200, we would need 1TB/s outgoing bandwidth."
   ]
  },
  {
   "cell_type": "markdown",
   "metadata": {},
   "source": [
    "# API\n",
    "\n",
    "```\n",
    "uploadVideo(api_dev_key, video_title, vide_description, tags[], category_id, default_language, \n",
    "                        recording_details, video_contents)\n",
    "```\n",
    "* A successful upload will return HTTP 202 (request accepted) and once the video encoding is completed the user is notified through email with a link to access the video. We can also expose a queryable API to let users know the current status of their uploaded video.\n",
    "\n",
    "```\n",
    "searchVideo(api_dev_key, search_query, user_location, maximum_videos_to_return, page_token)\n",
    "```\n",
    "* A JSON containing information about the list of video resources matching the search query. Each video resource will have a video title, a thumbnail, a video creation date, and a view count.\n",
    "\n",
    "```\n",
    "streamVideo(api_dev_key, video_id, offset, codec, resolution)\n",
    "```\n",
    "* If we support playing/pausing a video from multiple devices, we will need to store the offset on the server. This will enable the users to start watching a video on any device from the same point where they left off.\n",
    "* codec (string) & resolution(string): We should send the codec and resolution info in the API from the client to support play/pause from multiple devices. Imagine you are watching a video on your TV’s Netflix app, paused it, and started watching it on your phone’s Netflix app. In this case, you would need codec and resolution, as both these devices have a different resolution and use a different codec.\n",
    "* Returns Media stream from given offset."
   ]
  },
  {
   "cell_type": "markdown",
   "metadata": {},
   "source": [
    "# High level"
   ]
  },
  {
   "cell_type": "markdown",
   "metadata": {},
   "source": [
    "![](images/youtube1.PNG)"
   ]
  },
  {
   "cell_type": "markdown",
   "metadata": {},
   "source": [
    "* Processing Queue: Each uploaded video will be pushed to a processing queue to be de-queued later for encoding, thumbnail generation, and storage.\n",
    "* Encoder: To encode each uploaded video into multiple formats.\n",
    "* Thumbnails generator: To generate a few thumbnails for each video.\n",
    "* Video and Thumbnail storage: To store video and thumbnail files in some distributed file storage.\n",
    "* User Database: To store user’s information, e.g., name, email, address, etc.\n",
    "* Video metadata storage: A metadata database to store all the information about videos like title, file path in the system, uploading user, total views, likes, dislikes, etc. It will also be used to store all the video comments."
   ]
  },
  {
   "cell_type": "markdown",
   "metadata": {},
   "source": [
    "# Database Schema"
   ]
  },
  {
   "cell_type": "markdown",
   "metadata": {},
   "source": [
    "* Video metadata storage - MySql\n",
    "    - Videos metadata can be stored in a SQL database. The following information should be stored with each video:\n",
    "\n",
    "    - VideoID\n",
    "    - Title\n",
    "    - Description\n",
    "    - Size\n",
    "    - Thumbnail\n",
    "    - Uploader/User\n",
    "    - Total number of likes\n",
    "    - Total number of dislikes\n",
    "    - Total number of views"
   ]
  },
  {
   "cell_type": "markdown",
   "metadata": {},
   "source": [
    "* For each video comment, we need to store following information:\n",
    "\n",
    "    - CommentID\n",
    "    - VideoID\n",
    "    - UserID\n",
    "    - Comment\n",
    "    - imeOfCreation"
   ]
  },
  {
   "cell_type": "markdown",
   "metadata": {},
   "source": [
    "* User data storage - MySql\n",
    "    - UserID, Name, email, address, age, registration details etc."
   ]
  },
  {
   "cell_type": "markdown",
   "metadata": {},
   "source": [
    "# Detailed Component Design"
   ]
  },
  {
   "cell_type": "markdown",
   "metadata": {},
   "source": [
    "* The service would be read-heavy, so we will focus on building a system that can retrieve videos quickly. "
   ]
  },
  {
   "cell_type": "markdown",
   "metadata": {},
   "source": [
    "* Videos can be stored in a distributed file storage system like HDFS or GlusterFS."
   ]
  },
  {
   "cell_type": "markdown",
   "metadata": {},
   "source": [
    "* We should segregate our read traffic from write traffic. Since we will have multiple copies of each video, we can distribute our read traffic on different servers. For metadata, we can have master-slave configurations where writes will go to master first and then gets applied at all the slaves. Such configurations can cause some staleness in data, e.g., when a new video is added, its metadata would be inserted in the master first and before it gets applied at the slave our slaves would not be able to see it; and therefore it will be returning stale results to the user. This staleness might be acceptable in our system as it would be very short-lived and the user would be able to see the new videos after a few milliseconds."
   ]
  },
  {
   "cell_type": "markdown",
   "metadata": {},
   "source": [
    "![](images/youtube2.PNG)"
   ]
  },
  {
   "cell_type": "markdown",
   "metadata": {},
   "source": [
    "* Where would thumbnails be stored? There will be a lot more thumbnails than videos. If we assume that every video will have five thumbnails, we need to have a very efficient storage system that can serve a huge read traffic. There will be two consideration before deciding which storage system should be used for thumbnails:\n",
    "\n",
    "* Thumbnails are small files with, say, a maximum 5KB each.\n",
    "* Read traffic for thumbnails will be huge compared to videos. Users will be watching one video at a time, but they might be looking at a page that has 20 thumbnails of other videos.\n",
    "* Let’s evaluate storing all the thumbnails on a disk. Given that we have a huge number of files, we have to perform a lot of seeks to different locations on the disk to read these files. This is quite inefficient and will result in higher latencies.\n",
    "\n",
    "* Bigtable can be a reasonable choice here as it combines multiple files into one block to store on the disk and is very efficient in reading a small amount of data. Both of these are the two most significant requirements of our service. Keeping hot thumbnails in the cache will also help in improving the latencies and, given that thumbnails files are small in size, we can easily cache a large number of such files in memory."
   ]
  },
  {
   "cell_type": "markdown",
   "metadata": {},
   "source": [
    "* Video Uploads: Since videos could be huge, if while uploading the connection drops we should support resuming from the same point."
   ]
  },
  {
   "cell_type": "markdown",
   "metadata": {},
   "source": [
    "* Video Encoding: Newly uploaded videos are stored on the server and a new task is added to the processing queue to encode the video into multiple formats. Once all the encoding will be completed the uploader will be notified and the video is made available for view/sharing."
   ]
  },
  {
   "cell_type": "markdown",
   "metadata": {},
   "source": [
    "# Metadata Sharding"
   ]
  },
  {
   "cell_type": "markdown",
   "metadata": {},
   "source": [
    "* Since we have a huge number of new videos every day and our read load is extremely high, therefore, we need to distribute our data onto multiple machines so that we can perform read/write operations efficiently. We have many options to shard our data."
   ]
  },
  {
   "cell_type": "markdown",
   "metadata": {},
   "source": [
    "* Sharding based on UserID: We can try storing all the data for a particular user on one server. While storing, we can pass the UserID to our hash function which will map the user to a database server where we will store all the metadata for that user’s videos. While querying for videos of a user, we can ask our hash function to find the server holding the user’s data and then read it from there. To search videos by titles we will have to query all servers and each server will return a set of videos. A centralized server will then aggregate and rank these results before returning them to the user.\n",
    "\n",
    "* This approach has a couple of issues:\n",
    "\n",
    "* What if a user becomes popular? There could be a lot of queries on the server holding that user; this could create a performance bottleneck. This will also affect the overall performance of our service.\n",
    "* Over time, some users can end up storing a lot of videos compared to others. Maintaining a uniform distribution of growing user data is quite tricky.\n",
    "* To recover from these situations either we have to repartition/redistribute our data or used consistent hashing to balance the load between servers."
   ]
  },
  {
   "cell_type": "markdown",
   "metadata": {},
   "source": [
    "* Sharding based on VideoID: Our hash function will map each VideoID to a random server where we will store that Video’s metadata. To find videos of a user we will query all servers and each server will return a set of videos. A centralized server will aggregate and rank these results before returning them to the user. This approach solves our problem of popular users but shifts it to popular videos.\n",
    "\n",
    "* We can further improve our performance by introducing a cache to store hot videos in front of the database servers."
   ]
  },
  {
   "cell_type": "markdown",
   "metadata": {},
   "source": [
    "### Video Deduplication\n",
    "* Saves Data storage, caching improvements, network usage, energy consumption\n",
    "* For the end user, these inefficiencies will be realized in the form of duplicate search results, longer video startup times, and interrupted streaming."
   ]
  },
  {
   "cell_type": "markdown",
   "metadata": {},
   "source": [
    "* deduplication makes most sense early; when a user is uploading a video as compared to post-processing it to find duplicate videos later. Inline deduplication will save us a lot of resources that can be used to encode, transfer, and store the duplicate copy of the video. As soon as any user starts uploading a video, our service can run video matching algorithms\n",
    "    - BLock matching, phase correlation\n",
    "* If we already have a copy of the video being uploaded, we can either stop the upload and use the existing copy or continue the upload and use the newly uploaded video if it is of higher quality. If the newly uploaded video is a subpart of an existing video or, vice versa, we can intelligently divide the video into smaller chunks so that we only upload the parts that are missing."
   ]
  },
  {
   "cell_type": "markdown",
   "metadata": {},
   "source": [
    "### Load balancing\n",
    "* We should use Consistent Hashing among our cache servers, which will also help in balancing the load between cache servers. Since we will be using a static hash-based scheme to map videos to hostnames it can lead to an uneven load on the logical replicas due to the different popularity of each video. For instance, if a video becomes popular, the logical replica corresponding to that video will experience more traffic than other servers. These uneven loads for logical replicas can then translate into uneven load distribution on corresponding physical servers. To resolve this issue any busy server in one location can redirect a client to a less busy server in the same cache location. We can use dynamic HTTP redirections for this scenario.\n",
    "\n",
    "### Cache\n",
    "* Our service should push its content closer to the user using a large number of geographically distributed video cache servers. We need to have a strategy that will maximize user performance and also evenly distributes the load on its cache servers.\n",
    "* How can we build more intelligent cache? If we go with 80-20 rule, i.e., 20% of daily read volume for videos is generating 80% of traffic, meaning that certain videos are so popular that the majority of people view them; it follows that we can try caching 20% of daily read volume of videos and metadata.\n",
    "* We can introduce a cache for metadata servers to cache hot database rows. Using Memcache to cache the data and Application servers before hitting database can quickly check if the cache has the desired rows. Least Recently Used (LRU) can be a reasonable cache eviction policy for our system. Under this policy, we discard the least recently viewed row first."
   ]
  },
  {
   "cell_type": "markdown",
   "metadata": {},
   "source": [
    "### Content Delivery Network (CDN)\n",
    "* A CDN is a system of distributed servers that deliver web content to a user based in the geographic locations of the user\n",
    "* CDNs replicate content in multiple places. There’s a better chance of videos being closer to the user and, with fewer hops, videos will stream from a friendlier network.\n",
    "* CDN machines make heavy use of caching and can mostly serve videos out of memory."
   ]
  },
  {
   "cell_type": "markdown",
   "metadata": {},
   "source": [
    "* We should use Consistent Hashing for distribution among database servers. Consistent hashing will not only help in replacing a dead server, but also help in distributing load among servers."
   ]
  },
  {
   "cell_type": "markdown",
   "metadata": {},
   "source": [
    "* Netflix also have models which detects, whether user watching video has sparse scene or dense. According to the type of the movie it will part movie as a scene or as a continuous time. So we can prefetch upcomming contnet efficiently"
   ]
  },
  {
   "cell_type": "markdown",
   "metadata": {},
   "source": [
    "* Netflix works on AWS and OpenConnect\n",
    "* ANything that does not need stream is handled by AWS and video streaming part is handled by openCOnnect"
   ]
  },
  {
   "cell_type": "markdown",
   "metadata": {},
   "source": [
    "* OpenCOnnect is Netflix owned CDN, to provide content faster by putting is geographically closer to the client. Main goal is to provide lower latency and use less bandwidth "
   ]
  },
  {
   "cell_type": "markdown",
   "metadata": {},
   "source": [
    "* It use elastic load balance, which takes care that load is handled first at zone level and then instance level. Zone choosing can be like DNS based round robin. Zone can be a logical group of servers in one geographic region. Like In US there are 3 zones\n",
    "* Inside zone another LB distribute load in RR manned to different instance"
   ]
  },
  {
   "cell_type": "markdown",
   "metadata": {},
   "source": [
    "## Transcoding and encoding\n",
    "* Transcoding means make video in different resolutions.\n",
    "* For one movie there is 1200 different videos created beforehand"
   ]
  },
  {
   "cell_type": "markdown",
   "metadata": {},
   "source": [
    "![](images/netflix1.PNG)"
   ]
  },
  {
   "cell_type": "markdown",
   "metadata": {},
   "source": [
    "* After EC2 worker done with transcoding and encoding , We push all this things to OpenConnect across the glob."
   ]
  },
  {
   "cell_type": "markdown",
   "metadata": {},
   "source": [
    "* Client does authentication with AWS server, As soon as client hits play, it will figure out best openCOnnect server to get the stream. In background it keeps checking for best available openconnect CDN using load to server and quality of connection."
   ]
  },
  {
   "cell_type": "markdown",
   "metadata": {},
   "source": [
    "![](images/netflix.PNG)"
   ]
  },
  {
   "cell_type": "markdown",
   "metadata": {},
   "source": [
    "### ZUUL\n",
    "* Gateway service that provide dynamic routing, monitoring, resiliency\n",
    "* We can shard the traffic using it to different servers.\n",
    "* Load test a new service or server by routing request to that new thing.\n",
    "* Filter the request"
   ]
  },
  {
   "cell_type": "markdown",
   "metadata": {},
   "source": [
    "* Saves billing, transactional infor into MySQL as it needs ACID compliences\n",
    "* Master-Master replication\n",
    "    - You will only receive ack after all master has an update.\n",
    "    - Read Replicas for each master."
   ]
  },
  {
   "cell_type": "markdown",
   "metadata": {},
   "source": [
    "* Also it periodically dump non current data in compressed format and only keep current live data in Cassandra"
   ]
  },
  {
   "cell_type": "markdown",
   "metadata": {},
   "source": [
    "### Spark\n",
    "* sorting\n",
    "* relevance rank\n",
    "* row selection\n",
    "* Netflix know that for what thumbnail the click through rate is high.\n",
    "* Collaborative filetring : If 2 client has same taste then they will behave same in future\n",
    "* User history\n",
    "* Conent based filtering: \n",
    "* Metadata like title, actor, director, genre\n",
    "* Device, time of the day\n",
    "* Other member's taste."
   ]
  },
  {
   "cell_type": "markdown",
   "metadata": {},
   "source": [
    "* THere are small OC which cache few videos and other is big, which has all netflix contents\n",
    "* Based on historical viewing pattern and popular content placed in particular OC\n",
    "* Using consistency hashing store videos in spacific OC."
   ]
  },
  {
   "cell_type": "code",
   "execution_count": null,
   "metadata": {},
   "outputs": [],
   "source": []
  }
 ],
 "metadata": {
  "kernelspec": {
   "display_name": "Python 3",
   "language": "python",
   "name": "python3"
  },
  "language_info": {
   "codemirror_mode": {
    "name": "ipython",
    "version": 3
   },
   "file_extension": ".py",
   "mimetype": "text/x-python",
   "name": "python",
   "nbconvert_exporter": "python",
   "pygments_lexer": "ipython3",
   "version": "3.7.1"
  },
  "varInspector": {
   "cols": {
    "lenName": 16,
    "lenType": 16,
    "lenVar": 40
   },
   "kernels_config": {
    "python": {
     "delete_cmd_postfix": "",
     "delete_cmd_prefix": "del ",
     "library": "var_list.py",
     "varRefreshCmd": "print(var_dic_list())"
    },
    "r": {
     "delete_cmd_postfix": ") ",
     "delete_cmd_prefix": "rm(",
     "library": "var_list.r",
     "varRefreshCmd": "cat(var_dic_list()) "
    }
   },
   "types_to_exclude": [
    "module",
    "function",
    "builtin_function_or_method",
    "instance",
    "_Feature"
   ],
   "window_display": false
  }
 },
 "nbformat": 4,
 "nbformat_minor": 2
}
