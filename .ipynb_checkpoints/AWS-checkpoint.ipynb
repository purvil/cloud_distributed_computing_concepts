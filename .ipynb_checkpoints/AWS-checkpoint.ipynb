{
 "cells": [
  {
   "cell_type": "markdown",
   "metadata": {},
   "source": [
    "### Elastic cloud compute (EC2)\n",
    "* \n",
    "\n",
    "### Storage\n",
    "* Amazon Elastic block storage (EBS\n",
    "* Amazon Simple storage service (S3)\n",
    "* Amazon SimpleDB\n",
    "* Amazon RDS\n",
    "\n",
    "### Messaging\n",
    "* Simple Queue Service (SQS\n",
    "* Simple notification Service (SNS)"
   ]
  },
  {
   "cell_type": "markdown",
   "metadata": {},
   "source": [
    "![](images/aws.JPG)"
   ]
  },
  {
   "cell_type": "markdown",
   "metadata": {},
   "source": [
    "### AWS Region\n",
    "* AWS has region all around the world, US-East 1\n",
    "* Each region has availability zone US- East 1a , 1b.\n",
    "* Each availability zone is a physical data center in the region, but separate from other one.\n",
    "* Each AWS Console is region scoped. Except IAM and S3\n",
    "\n",
    "# IAM (Identity and Access Management)\n",
    "* Whole AWS security is here\n",
    "    - Users\n",
    "    - Groups\n",
    "    - Roles\n",
    "* Policies are written in JSON.\n",
    "* User is actual person, Each user has his account (Not the root)\n",
    "* Group of users creates Groups\n",
    "* Roles internal usage within AWS resources (Application)\n",
    "* Policies define what above entity can do or can not do.\n",
    "* Do not over power entity. Least privilege principle\n",
    "* Never use root account except for initial setup."
   ]
  },
  {
   "cell_type": "markdown",
   "metadata": {},
   "source": [
    "* We can manage user, groups, password policies, attach policies"
   ]
  },
  {
   "cell_type": "markdown",
   "metadata": {},
   "source": [
    "### Security Groups\n",
    "* Fundamental to network security in AWS.\n",
    "* They control how traffic is allowed into or out of EC2 machine.\n",
    "![](images/security_group.JPG)"
   ]
  },
  {
   "cell_type": "markdown",
   "metadata": {},
   "source": [
    "* Setting inbound and outbound rules\n",
    "* Firewall of EC@ instance\n",
    "* Regulate, Access to ports, authorized ip ranges\n",
    "* Can be attached to multiple EC2 instances\n",
    "* If application is not accessible (time out) it is security group issue\n",
    "* If application gives connection refused error then it is an application error or it is not launched.\n",
    "* By default all in bound traffic is blocked and out bound traffic is authorized."
   ]
  },
  {
   "cell_type": "markdown",
   "metadata": {},
   "source": [
    "#### Private and public id\n",
    "* Public ip is accessible over an Internet. Private ip can only accessed within group/organization. Private Ip use Internet gateway to connect with outside world.\n",
    "* Specified range of ip can be used as private ip.\n",
    "* Private ip of instance for internal AWS network\n",
    "* When we restart EC2 instance it may change it public ip. If you need to have a fixed ip for instance use, elastic ip. It is public ip someone own until delete it. It can be attached to an instance.\n",
    "* Using elastic ip, we can mask failure of an instance or software by rapidly remapping the address to another instance."
   ]
  },
  {
   "cell_type": "markdown",
   "metadata": {},
   "source": [
    "#### EC2 User Data"
   ]
  },
  {
   "cell_type": "markdown",
   "metadata": {},
   "source": [
    "* It is possible to bootstrap instance using EC@ user data script.\n",
    "* Bootstrapping means launching command when machine starts\n",
    "* That script runs only once a the instance first start.\n",
    "* EC2 user data is used to automate boot task such as,\n",
    "    - Installing update\n",
    "    - Installing software\n",
    "    - Download common files\n",
    "* Paste bash script in Configure instance details page/ Advanced details."
   ]
  },
  {
   "cell_type": "markdown",
   "metadata": {},
   "source": [
    "### EC2 Instance launch types\n",
    "* On demand instance\n",
    "    - Short workload, predictable price\n",
    "    - Costly, pay per second\n",
    "* Reserved instance:\n",
    "    - Long workload > 1 year\n",
    "    - 75 % cheaper than on demand\n",
    "* Convertible reserved instance\n",
    "    - Long work load with flexible instances\n",
    "    - Can change EC2 instance type\n",
    "    - 54% discount than on demand\n",
    "* Scheduled Reserved instances:\n",
    "    - Launch within time window you reserve\n",
    "* Spot instances\n",
    "    - Short workload, for cheap, can loose instance\n",
    "    - 90% off compared to on demand\n",
    "    - We bid price and get as long as instance is under the price.\n",
    "    * 2 min notification and we loose the instance\n",
    "    * Bach analysis\n",
    "* Dedicated instances:\n",
    "    - No other customer will share same hardware\n",
    "    * Visibility in underlying socket, physical core of the hardware.\n",
    "    - Allocated for 3 yr period\n",
    "    - expensive.\n",
    "* Dedicated host\n",
    "    - Book entire physical server, control instance placement"
   ]
  },
  {
   "cell_type": "markdown",
   "metadata": {},
   "source": [
    "* EC2 price depends on Region, instance type, on-demand vs spot vs reserved vs dedicated, OS"
   ]
  },
  {
   "cell_type": "markdown",
   "metadata": {},
   "source": [
    "#### Amazon machine Image (AMI)\n",
    "* Pre installed package needed.\n",
    "* Faster boot time\n",
    "* AMI is built for specific region."
   ]
  },
  {
   "cell_type": "markdown",
   "metadata": {},
   "source": [
    "#### Burstable instance\n",
    "* Overall CPU is OK performance, when the machine needs to process something unexpected, it can burst and CPU can be very good as long as we have accumulated credit."
   ]
  },
  {
   "cell_type": "markdown",
   "metadata": {},
   "source": [
    "# Load Balancer\n",
    "* Load balancer are servers that forward internet traffic to multiple server(EC2 instances) downstream.\n",
    "* Expose single point of access to your application,\n",
    "* Seamlessly handle failure of downstream instances.\n",
    "* An ELB (EC2 load balancer) is a managed load balancer\n",
    "* Types\n",
    "    - Classic load balancer\n",
    "    - Application load balancer\n",
    "    - Network load balancer"
   ]
  },
  {
   "cell_type": "markdown",
   "metadata": {},
   "source": [
    "* Health check\n",
    "    - Load balancer checks health of EC2 instances. It is done on port and a route. If response is not 200 (OK) the n instance is bad."
   ]
  }
 ],
 "metadata": {
  "kernelspec": {
   "display_name": "Python 3",
   "language": "python",
   "name": "python3"
  },
  "language_info": {
   "codemirror_mode": {
    "name": "ipython",
    "version": 3
   },
   "file_extension": ".py",
   "mimetype": "text/x-python",
   "name": "python",
   "nbconvert_exporter": "python",
   "pygments_lexer": "ipython3",
   "version": "3.7.1"
  }
 },
 "nbformat": 4,
 "nbformat_minor": 2
}
