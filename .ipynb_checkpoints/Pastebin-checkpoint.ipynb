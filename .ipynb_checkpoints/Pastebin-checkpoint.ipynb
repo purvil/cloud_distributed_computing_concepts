{
 "cells": [
  {
   "cell_type": "markdown",
   "metadata": {},
   "source": [
    "* pastebin.com, pasted.co, chopapp.com\n",
    "* users can store plain text. Users of the service will enter a piece of text or images and get a randomly generated URL to access it."
   ]
  },
  {
   "cell_type": "markdown",
   "metadata": {},
   "source": [
    "# Requirement\n",
    "* Users should be able to upload or “paste” their data and get a unique URL to access it.\n",
    "* Users will only be able to upload text.\n",
    "* Data and links will expire after a specific timespan automatically; users should also be able to specify expiration time.\n",
    "* Users should optionally be able to pick a custom alias for their paste.\n",
    "* System does not suuport user account or editing documents\n",
    "* Old document gets deleted after not being accessed for long time\n",
    "* User enters a paste's url and views the contents\n",
    "* User is anonymous\n",
    "* Service tracks analytics of pages\n",
    "    * Monthly visit stats"
   ]
  },
  {
   "cell_type": "markdown",
   "metadata": {},
   "source": [
    "* Out of scope\n",
    "    - User register for an account\n",
    "        - Verify an email\n",
    "    - User logs in registered account\n",
    "        - User edit document\n",
    "    - User can set visibility"
   ]
  },
  {
   "cell_type": "markdown",
   "metadata": {},
   "source": [
    "* The system should be highly reliable, any data uploaded should not be lost.\n",
    "* Uers should be able to access their Pastes in real-time with minimum latency.\n",
    "* Paste links should not be guessable\n",
    "* Analytics, e.g., how many times a paste was accessed?\n",
    "* Our service should also be accessible through REST APIs by other services.\n",
    "* Analytics can be accessed by stats button on each page"
   ]
  },
  {
   "cell_type": "markdown",
   "metadata": {},
   "source": [
    "* We can limit users not to have Pastes bigger than 10MB to stop the abuse of the service.\n",
    "* Since our service supports custom URLs, users can pick any URL that they like, but providing a custom URL is not mandatory. However, it is reasonable (and often desirable) to impose a size limit on custom URLs, so that we have a consistent URL database.\n",
    "* System gets heavy traffic and contains millions of docs\n",
    "* Traffic is NOT equally distributed on all systems. Some hot documents are there."
   ]
  },
  {
   "cell_type": "markdown",
   "metadata": {},
   "source": [
    "# Capacity Estimation and Constraints"
   ]
  },
  {
   "cell_type": "markdown",
   "metadata": {},
   "source": [
    "* Our services will be read-heavy; there will be more read requests compared to new Pastes creation. We can assume a 5:1 ratio between read and write.\n",
    "* Traffic\n",
    "    - 1 M new paste per day\n",
    "    - Means 1 * 5 = 5 M reads per day\n",
    "    - 1M / (3600 * 24) = 12 paste/sec\n",
    "    - 5M / (3600 * 24) = 58 reads/sec\n",
    "* Storage\n",
    "    - user can upload 10 MB of data. User share source code, configs or logs such text are not huge. Avg size = 10 KB\n",
    "    - 1M * 10KB = 10 GB/day\n",
    "    - To store it for 10 years 10 * 365 * 10 = 36TB\n",
    "* With 1M pastes every day we will have 3.6 billion Pastes in 10 years. We need to generate and store keys to uniquely identify these pastes. If we use base64 encoding ([A-Z, a-z, 0-9, ., -]) we would need six letters strings:\n",
    "    - 64^6 ~= 68.7 billion unique strings\n",
    "* If it takes one byte to store one character, total size required to store 3.6B keys would be:\n",
    "    - 3.6B * 6 => 22 GB"
   ]
  },
  {
   "cell_type": "markdown",
   "metadata": {},
   "source": [
    "* We can generate random GUID of 128 bit, but not guarantee to be unique. Low odds of collision, that can treat it as unique. But not pretty to user. To make it pretty cut to smaller values but increase chance of collison."
   ]
  },
  {
   "cell_type": "markdown",
   "metadata": {},
   "source": [
    "* Size per paste\n",
    "    - 1 KB content per paste\n",
    "    - shortlink - 7 bytes\n",
    "    - expiration_length_in_minutes - 4 bytes\n",
    "    - created_at - 5 bytes\n",
    "    - paste_path - 255 bytes\n",
    "    - total = ~1.27 KB"
   ]
  },
  {
   "cell_type": "markdown",
   "metadata": {},
   "source": [
    "* 22GB is negligible compared to 36TB. To keep some margin, we will assume a 70% capacity model (meaning we don’t want to use more than 70% of our total storage capacity at any point), which raises our storage needs to 51.4TB."
   ]
  },
  {
   "cell_type": "markdown",
   "metadata": {},
   "source": [
    "* Bandwidth\n",
    "    - For write requests, we expect 12 new pastes per second, resulting in 120KB of ingress per second.\n",
    "        - 12 * 10KB => 120 KB/s\n",
    "    -  for the read request, we expect 58 requests per second. Therefore, total data egress (sent to users) will be 0.6 MB/s.\n",
    "        - 58 * 10KB => 0.6 MB/s\n",
    "* Memory\n",
    "    - 20% of hot pastes generate 80% of traffic, we would like to cache these 20% pastes\n",
    "    - Since we have 5M read requests per day, to cache 20% of these requests, we would need:\n",
    "        - 0.2 * 5M * 10KB ~= 10 GB\n",
    "    - As document can not be edited, we do not have to worry about invalidating."
   ]
  },
  {
   "cell_type": "markdown",
   "metadata": {},
   "source": [
    "# System API"
   ]
  },
  {
   "cell_type": "markdown",
   "metadata": {},
   "source": [
    "```\n",
    "addPaste(api_dev_key, paste_data, custom_url=None user_name=None, paste_name=None, expire_date=None)\n",
    "```\n",
    "* The API developer key of a registered account. This will be used to, among other things, throttle users based on their allocated quota.\n",
    "* A successful insertion returns the URL through which the paste can be accessed, otherwise, it will return an error code.\n",
    "\n",
    "```\n",
    "getPaste(api_dev_key, api_paste_key)\n",
    "deletePaste(api_dev_key, api_paste_key)\n",
    "```"
   ]
  },
  {
   "cell_type": "markdown",
   "metadata": {},
   "source": [
    "# Database Design\n",
    "* We need to store billions of records.\n",
    "* Each metadata object we are storing would be small (less than 1KB).\n",
    "* Each paste object we are storing can be of medium size (it can be a few MB).\n",
    "* There are no relationships between records, except if we want to store which user created what Paste.\n",
    "* Our service is read-heavy.\n",
    "![](images/pastebin1.PNG)"
   ]
  },
  {
   "cell_type": "markdown",
   "metadata": {},
   "source": [
    "```\n",
    "shortlink char(7) NOT NULL\n",
    "expiration_length_in_minutes int NOT NULL\n",
    "created_at datetime NOT NULL\n",
    "paste_path varchar(255) NOT NULL\n",
    "PRIMARY KEY(shortlink)\n",
    "```"
   ]
  },
  {
   "cell_type": "markdown",
   "metadata": {},
   "source": [
    "*  ‘ContentKey’ is a reference to an external object storing the contents of the paste"
   ]
  },
  {
   "cell_type": "markdown",
   "metadata": {},
   "source": [
    "* We'll create an index on shortlink and created_at to speed up lookups (log-time instead of scanning the entire table) and to keep the data in memory. Reading 1 MB sequentially from memory takes about 250 microseconds, while reading from SSD takes 4x and from disk takes 80x longer"
   ]
  },
  {
   "cell_type": "markdown",
   "metadata": {},
   "source": [
    "# High level Design"
   ]
  },
  {
   "cell_type": "markdown",
   "metadata": {},
   "source": [
    "* we need an application layer that will serve all the read and write requests. Application layer will talk to a storage layer to store and retrieve data. We can segregate our storage layer with one database storing metadata related to each paste, users, etc., while the other storing the paste contents in some object storage (like Amazon S3) or NoSQL document store. This division of data will also allow us to scale them individually."
   ]
  },
  {
   "cell_type": "markdown",
   "metadata": {},
   "source": [
    "![](images/pastebin2.SVG)"
   ]
  },
  {
   "cell_type": "markdown",
   "metadata": {},
   "source": [
    "![](images/pastebin4.PNG)"
   ]
  },
  {
   "cell_type": "markdown",
   "metadata": {},
   "source": [
    "* The Client sends a create paste request to the Web Server, running as a reverse proxy\n",
    "* The Web Server forwards the request to the Write API server\n",
    "* The Write API server does the following:\n",
    "    * Generates a unique url\n",
    "        * Checks if the url is unique by looking at the SQL Database for a duplicate\n",
    "        * If the url is not unique, it generates another url\n",
    "        * If we supported a custom url, we could use the user-supplied (also check for a duplicate)\n",
    "    * Saves to the SQL Database pastes table\n",
    "    * Saves the paste data to the Object Store\n",
    "    *Returns the url"
   ]
  },
  {
   "cell_type": "markdown",
   "metadata": {},
   "source": [
    "* Our application layer will process all incoming and outgoing requests. The application servers will be talking to the backend data store components to serve the requests.\n",
    "*  Upon receiving a write request, our application server will generate a six-letter random string, which would serve as the key of the paste (if the user has not provided a custom key). The application server will then store the contents of the paste and the generated key in the database. After the successful insertion, the server can return the key to the user. One possible problem here could be that the insertion fails because of a duplicate key. Since we are generating a random key, there is a possibility that the newly generated key could match an existing one. In that case, we should regenerate a new key and try again. We should keep retrying until we don’t see failure due to the duplicate key. We should return an error to the user if the custom key they have provided is already present in our database.\n",
    "* run a standalone Key Generation Service (KGS) that generates random six letters strings beforehand and stores them in a database (let’s call it key-DB). Whenever we want to store a new paste, we will just take one of the already generated keys and use it. This approach will make things quite simple and fast since we will not be worrying about duplications or collisions. KGS will make sure all the keys inserted in key-DB are unique. KGS can use two tables to store keys, one for keys that are not used yet and one for all the used keys. As soon as KGS gives some keys to an application server, it can move these to the used keys table. KGS can always keep some keys in memory so that whenever a server needs them, it can quickly provide them. As soon as KGS loads some keys in memory, it can move them to the used keys table, this way we can make sure each server gets unique keys. If KGS dies before using all the keys loaded in memory, we will be wasting those keys. We can ignore these keys given that we have a huge number of them."
   ]
  },
  {
   "cell_type": "markdown",
   "metadata": {},
   "source": [
    "* KGS a single point of failure. we can have a standby replica of KGS and whenever the primary server dies it can take over to generate and provide keys."
   ]
  },
  {
   "cell_type": "markdown",
   "metadata": {},
   "source": [
    "* Can each app server cache some keys from key-DB? Yes, this can surely speed things up. Although in this case, if the application server dies before consuming all the keys, we will end up losing those keys. This could be acceptable since we have 68B unique six letters keys, which are a lot more than we require."
   ]
  },
  {
   "cell_type": "markdown",
   "metadata": {},
   "source": [
    "* How does it handle a paste read request? Upon receiving a read paste request, the application service layer contacts the datastore. The datastore searches for the key, and if it is found, returns the paste’s contents. Otherwise, an error code is returned."
   ]
  },
  {
   "cell_type": "markdown",
   "metadata": {},
   "source": [
    "* To generate random URL\n",
    "    - Take the MD5 hash of the user's ip_address + timestamp\n",
    "        - MD5 is a widely used hashing function that produces a 128-bit hash value\n",
    "        - MD5 is uniformly distributed\n",
    "        - Alternatively, we could also take the MD5 hash of randomly-generated data\n",
    "* Base 62 encode the MD5 hash\n",
    "    - Base 62 encodes to [a-zA-Z0-9] which works well for urls, eliminating the need for escaping special characters\n",
    "    - There is only one hash result for the original input and Base 62 is deterministic (no randomness involved)\n",
    "    - Base 64 is another popular encoding but provides issues for urls because of the additional + and / characters\n",
    "    - The following Base 62 pseudocode runs in O(k) time where k is the number of digits = 7:"
   ]
  },
  {
   "cell_type": "code",
   "execution_count": 4,
   "metadata": {},
   "outputs": [],
   "source": [
    "def base_encode(num, base=62):\n",
    "    digits = []\n",
    "    while num > 0:\n",
    "        remainder = num % base\n",
    "        digits.push(remainder)\n",
    "        num = num // base\n",
    "    digits = digits.reverse()"
   ]
  },
  {
   "cell_type": "markdown",
   "metadata": {},
   "source": [
    "* Take the first 7 characters of the output, which results in 62^7 possible values \n",
    "```\n",
    "url = base_encode(md5(ip_address+timestamp))[:URL_LENGTH]\n",
    "```"
   ]
  },
  {
   "cell_type": "markdown",
   "metadata": {},
   "source": [
    "* REST API\n",
    "```\n",
    "$ curl -X POST --data '{ \"expiration_length_in_minutes\": \"60\", \\\n",
    "    \"paste_contents\": \"Hello World!\" }' https://pastebin.com/api/v1/paste\n",
    "```\n",
    "\n",
    "* Response\n",
    "\n",
    "```\n",
    "{\n",
    "    \"shortlink\": \"foobar\"\n",
    "}\n",
    "```"
   ]
  },
  {
   "cell_type": "markdown",
   "metadata": {},
   "source": [
    "* Rest API for read\n",
    "```\n",
    "$ curl https://pastebin.com/api/v1/paste?shortlink=foobar\n",
    "```\n",
    "\n",
    "* Response\n",
    "```\n",
    "{\n",
    "    \"paste_contents\": \"Hello World\"\n",
    "    \"created_at\": \"YYYY-MM-DD HH:MM:SS\"\n",
    "    \"expiration_length_in_minutes\": \"60\"\n",
    "}\n",
    "```"
   ]
  },
  {
   "cell_type": "markdown",
   "metadata": {},
   "source": [
    "# Database Layer"
   ]
  },
  {
   "cell_type": "markdown",
   "metadata": {},
   "source": [
    "![](images/pastebin3.PNG)"
   ]
  },
  {
   "cell_type": "markdown",
   "metadata": {},
   "source": [
    "* Metadata database: We can use a relational database like MySQL or a Distributed Key-Value store like Dynamo or Cassandra.\n",
    "* Object storage: We can store our contents in an Object Storage like Amazon’s S3. Whenever we feel like hitting our full capacity on content storage, we can easily increase it by adding more servers."
   ]
  },
  {
   "cell_type": "markdown",
   "metadata": {},
   "source": [
    "* Sharding database:\n",
    "    - URL hash code % some int, will yield server where we store data. Which allows us to quickly locate the database which has the file.\n",
    "    - We can skip db enitely and let URL say which server has file, but when we change number of servers it will be difficult to redistribute files."
   ]
  },
  {
   "cell_type": "markdown",
   "metadata": {},
   "source": [
    "# Analytics"
   ]
  },
  {
   "cell_type": "markdown",
   "metadata": {},
   "source": [
    "* We want number of visits, may be by location and time"
   ]
  },
  {
   "cell_type": "markdown",
   "metadata": {},
   "source": [
    "* Store raw data vs store data which we need\n",
    "    - Raw is better, we might need some more info in future"
   ]
  },
  {
   "cell_type": "markdown",
   "metadata": {},
   "source": [
    "* Simply log each visit to a file and also back it up latter"
   ]
  },
  {
   "cell_type": "markdown",
   "metadata": {},
   "source": [
    "* Reading log file is not good, we can have separate database to store Month and year, URL and visit counts. Every time URL visited update the count.\n",
    "* Not heavy load as not displayed on main page, still we can use cache if needed"
   ]
  },
  {
   "cell_type": "markdown",
   "metadata": {},
   "source": [
    "* Since realtime analytics are not a requirement, we could simply MapReduce the Web Server logs to generate hit counts."
   ]
  },
  {
   "cell_type": "markdown",
   "metadata": {},
   "source": [
    "![](images/pastebin8.PNG)"
   ]
  },
  {
   "cell_type": "markdown",
   "metadata": {},
   "source": [
    "* The Analytics Database could use a data warehousing solution such as Amazon Redshift or Google BigQuery.\n",
    "\n",
    "* An Object Store such as Amazon S3 can comfortably handle the constraint of 12.7 GB of new content per month.\n",
    "\n",
    "* To address the 40 average read requests per second (higher at peak), traffic for popular content should be handled by the Memory Cache instead of the database. The Memory Cache is also useful for handling the unevenly distributed traffic and traffic spikes. The SQL Read Replicas should be able to handle the cache misses, as long as the replicas are not bogged down with replicating writes.\n",
    "\n",
    "* 4 average paste writes per second (with higher at peak) should be do-able for a single SQL Write Master-Slave. Otherwise, we'll need to employ additional SQL scaling patterns:\n",
    "\n",
    "    - Federation\n",
    "    - Sharding\n",
    "    - Denormalization\n",
    "    - SQL Tuning\n",
    "* We should also consider moving some data to a NoSQL Database."
   ]
  }
 ],
 "metadata": {
  "kernelspec": {
   "display_name": "Python 3",
   "language": "python",
   "name": "python3"
  },
  "language_info": {
   "codemirror_mode": {
    "name": "ipython",
    "version": 3
   },
   "file_extension": ".py",
   "mimetype": "text/x-python",
   "name": "python",
   "nbconvert_exporter": "python",
   "pygments_lexer": "ipython3",
   "version": "3.7.1"
  },
  "varInspector": {
   "cols": {
    "lenName": 16,
    "lenType": 16,
    "lenVar": 40
   },
   "kernels_config": {
    "python": {
     "delete_cmd_postfix": "",
     "delete_cmd_prefix": "del ",
     "library": "var_list.py",
     "varRefreshCmd": "print(var_dic_list())"
    },
    "r": {
     "delete_cmd_postfix": ") ",
     "delete_cmd_prefix": "rm(",
     "library": "var_list.r",
     "varRefreshCmd": "cat(var_dic_list()) "
    }
   },
   "types_to_exclude": [
    "module",
    "function",
    "builtin_function_or_method",
    "instance",
    "_Feature"
   ],
   "window_display": false
  }
 },
 "nbformat": 4,
 "nbformat_minor": 2
}
