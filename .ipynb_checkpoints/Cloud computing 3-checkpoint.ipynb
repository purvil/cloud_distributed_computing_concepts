{
 "cells": [
  {
   "cell_type": "markdown",
   "metadata": {},
   "source": [
    "* Own information system\n",
    "    - Capital investment\n",
    "    - Heavy fixed cost : building, air conditioning, power\n",
    "    - Redundant expenditure: programmers, backups\n",
    "    - High energy cost, low CPU utilization:\n",
    "    - Dealing with unreliable hardware\n",
    "    - High levels of overcapacity (ideal capacity which is not utilized)\n",
    "* \"Computing may someday be organized as a public utility, just as the telephone system is organized as a public utility\"\n",
    "\n",
    "### What is cloud computing?\n",
    "- Anybody want to use it. so availability and accessibility should be good (Ubiquitous)\n",
    "- Convenient (24 x 7)\n",
    "- on-demand access \n",
    "- Rapid provisioned with minimal management\n",
    "![](images/what_is_cloud.jpg)"
   ]
  },
  {
   "cell_type": "markdown",
   "metadata": {},
   "source": [
    "### How cloud services delivered to customer\n",
    "#### Software as a services (SaaS)\n",
    "- Use provider's application over network\n",
    "- SalesForce.com, GMail, office, Matlab online\n",
    "\n",
    "#### Platform as services (PaaS)\n",
    "- Deploy customer created application to a cloud\n",
    "- On demand application hosting. Provides platform to user to run application on cloud\n",
    "- Customers uses it to develop applications that benefits from the scalability of the cloud without fully developing their solutions\n",
    "- Customer create application using programming language, libraries, services, tools supported by provider.\n",
    "* Offers automatic scaling.\n",
    "- Google app Engine\n",
    "- It is more cost effective because systems are optimized by providers according their underlying system. in Iaas customers are in charge of load balancing and networking.\n",
    "- Disadvantage for customer is they may lock in application by requiring to develop apps using proprietary interfaces and languages. Difficult to go to another vendor to host app.\n",
    "#### Infrastructure as services (IaaS)\n",
    "* Rent processing,  storage, network\n",
    "* EC2, S3 "
   ]
  },
  {
   "cell_type": "markdown",
   "metadata": {},
   "source": [
    "### Big data and cloud\n",
    "* Data collection too large to transmit economically over internet\n",
    "* Computation is data intensive\n",
    "* USers buy big data serviced from clouds to share overhead."
   ]
  },
  {
   "cell_type": "markdown",
   "metadata": {},
   "source": [
    "### Utlity price of cloud\n",
    "* Demand of resource, peak demand, average demand\n",
    "* We consider baseline unit cost vs cloud unit cost\n",
    "* In real world demand are often very spiky.\n",
    "    - Tax, news stories, marketing promotion, product launch, Christmas shopping\n",
    "* Often hybrid model is good.\n",
    "    - Consider network cost, interoperability overhead, reliability and accessibility."
   ]
  },
  {
   "cell_type": "markdown",
   "metadata": {},
   "source": [
    "### Big Data\n",
    "* Collection of data sets so large and complex, it's impossible to process it on one computer with the usual databases and tools.\n",
    "* Volume, velocity, variety."
   ]
  },
  {
   "cell_type": "markdown",
   "metadata": {},
   "source": [
    "### Software defined architecture\n",
    "* Cloud provide services. It may provide IAAS, PAAS, SAAS and both internal and external application programming interface\n",
    "* The mechanism and concept of providing services is called software defined architecture.\n",
    "* Cloud may have software defined storage, network or compute.\n",
    "![](images/software_defined.jpg)\n",
    "* Self service portal provides APIs, which divides request as per demand of network, storage, compute.\n",
    "\n",
    "* Web service is simple application on a data center.\n",
    "* Load balancing is a simple schema to distribute the load of multiple servers."
   ]
  },
  {
   "cell_type": "markdown",
   "metadata": {},
   "source": [
    "![](images/comparision.jpg)"
   ]
  },
  {
   "cell_type": "markdown",
   "metadata": {},
   "source": [
    "### Virtualization\n",
    "* Economics of cloud requires sharing resources. \n",
    "* How can we share physical machine among multiple users: Using abstraction\n",
    "* We introduce abstract model of what generic computer look like. The physical computer resource provides this abstract model to many users.\n",
    "* Using virtualization physical model is multiplexed to many different users, keeps all independent from tripping on each other and allows us to build software defined architecture.\n",
    "* Same physical computer is provided to many users, but each user feels like they are the only user.\n",
    "* Virtualization allows distributed computing models without creating dependencies on physical resources.\n",
    "* Types of virtualization : Take simple model of computer, abstract that so each user/application think that they are getting sole access to actual machine.\n",
    "    - **Native, full**\n",
    "        - VM simulates enough hardware to allow an unmodified guest OS to be run in isolation(It does not know about any other guest OS) Ex. VirtualBox, Virtual PC, VMware, QEMU\n",
    "        ![](images/full_virtualization.jpg)\n",
    "        - We multiplax different guest OS on to hypervisor (virtual machine monitor). Hardware proivide virtual machine instruction. VMM takes advantage of such instruction and allow guest OS to operate in isolated environment\n",
    "        - To interpret instructions of guest OS, typical instructions are directly executed on machine, sensitive instruction are simulated by virtual machine\n",
    "    - **Hardware assisted** : Building in hardware such that it gives different images to users so user think they are sole user.\n",
    "        - VM has its own hardware and allows a guest OS to run in isolation\n",
    "        - intel VT, AMD-V\n",
    "        ![](images/hardware_virtualization.jpg)\n",
    "        - VMWare Fusion, parallel desktop for mac uses it.\n",
    "        - Sensitive instructions are run directly on hardware, but hardware knows how to handle such special instruction\n",
    "        - Guest os has own cache, virtual memory, own data. It will not share with anything else. \n",
    "    - **Para-virtualization**: Virtualization into software, all software runs through special compiler, compiler takes care of giving instances of hardware.\n",
    "        - VM does not necessarily simulate hardware, but instead offers a special API that can only be used by modifying the guest OS. Ex. XEN. guest OS is modified to handle such API.\n",
    "        ![](images/xen.jpg)\n",
    "        - We have OS that is doing resource control. Libraries do separation from one user to another. User is mounted to different part of file system. OS schedule the IO from different services so they does not happen at the same time, and they do not interfere.\n",
    "        - In each modified guest OS user can do everything that he can go in typical OS. For example, when user want to use port or do file IO, he can do, but to keep isolation that operations will be intercepted by hypervisor.\n",
    "    - **OS-level**: \n",
    "        - Virtualizing a physical server at the OS level, enabling multiple isolated and secure virtualized servers to run on single physical server. Ex. Linux Vserver, Solaris containers, FreeBSD containers, Chroot, CGroups\n",
    "        - VServer 2.0 guest VM\n",
    "        ![](images/vserver.jpg)\n",
    "        - OS provides libraries to handle virtualized set of services.\n",
    "        - Multiple servers running in same address space which is fast but less secure. When we are less concern about security,this is the choice.\n",
    "        - Solaris zones\n",
    "            - Zones provide separate vertualized OS environments that are derived from global zones.\n",
    "            - Multiple zones can share file systems, processors, network interface. Scaling and sharing can configured on as needed basis.\n",
    "            - Individual zones gain files and configuration from global zone\n",
    "            - Only global zones are bootable from system hardware.\n",
    "            - The global zones contain the complete installation of solaris, can contain additional packages. Local zones contain a subset of the complete OS, can contain non sharable packages. Local zones has no awareness of other zones. Local zone can not install, uninstall itself or other zone.\n",
    "        - LXC containers\n",
    "            - \n",
    "        ![](images/os_virtualizaion.jpg)\n",
    "        - virtual memory\n",
    "        - threads and processes\n",
    "        - interrupts and process switching\n",
    "        - Containers : Process in environment which you can easily duplicate\n",
    "        - Jails : Processes contained in virtual memory that is difficult to get out of\n",
    "        - Chroot (change root)\n",
    "        - Zones\n",
    "        - Open-VZ, virtuozzo\n",
    "* In hypervisor(VM) we have hardware, on top of that many virtual hardwares and many OSs, In OS-level virtualization we have hardware , there is NO virtual hardware, one kernel, many user space instances.\n",
    "* hypervisor(VM) is versatile, can run different OSs. OS-level vertualization can run only one OS, it can support APPLICATION which is meant for other OSs.\n",
    "* hypervisor(VM) do not need extra code in OS to do things, we get performance and scalability. In os-level application do not need so much code, we have natural page sharing so higher efficiency.\n",
    "* Containers are more elastic than hypervisors. Containers has small footprint so we have many more containers on one system than hypervisor.\n",
    "* Main advantage of hypervisor is allows different OS families on one servers.\n",
    "* Remember there is a tradeoff between efficiency and isolation."
   ]
  },
  {
   "cell_type": "markdown",
   "metadata": {},
   "source": [
    "### Software defined Networks\n",
    "* Mapping virtual network on networking hardware.\n",
    "* Defining topology which is efficient for our need regardless of topology of actual physical network.\n",
    "\n",
    "### Software defined storage"
   ]
  },
  {
   "cell_type": "markdown",
   "metadata": {},
   "source": [
    "### Dockers\n",
    "* Docker containers wrap up a piece of software in a complete filesystem that contains everything needed to run (code, runtime, system tools, system libraries) This gurantees that the software will always run the same, regardless of its environment it is running in.\n",
    "* Docker automates the deployment of applications inside software containers\n",
    "* Additional layer of abstraction and automation of OS-level virtualization.\n",
    "![](images/docker.jpg)\n",
    "* App1 need certain libraries and binary. My interest it to run it. Docker engine maps that code to whatever OS we are on.\n",
    "![](images/basic_of_docker.jpg)\n",
    "* We integrate app in docker file, which contains libraries, file system which we need to run app.\n",
    "* We build it and with the help of docker engine we create container. We transfer container in registry of containers. Other people can pull container from registry and run.\n",
    "* Changes and update\n",
    "![](images/docker_changes.jpg)\n",
    "* When we change app, we create differences and update container, put updated containers in Docker registry. User pull down app, docker engine apply the changes to give new app."
   ]
  },
  {
   "cell_type": "markdown",
   "metadata": {},
   "source": [
    "### JVM\n",
    "* Java virtual machine\n",
    "* Abstract computing machine that enables a computer to run a Java program.\n",
    "* Java runtime environment (JRE) is a software package that contains what is required to run Java program\n",
    "    - Java virtual machine implementation\n",
    "    - Java class library\n",
    "![](images/jvm.jpg)\n",
    "* Byte Code run on JVM. We have uniform platform to run our code.\n",
    "* Class file contains JVM instruction. It is hw and os independent binary format used to represent compiled classes and interfaces.\n",
    "* Just in time compiler can translate much JVM into machine code operates as execution occurs and improve speed."
   ]
  },
  {
   "cell_type": "markdown",
   "metadata": {},
   "source": [
    "### OpenStack\n",
    "* Collection of open source sw projects that enterprise/service providers can use to setup and run their cloud compute and storage infrastructure.\n",
    "\n",
    "### Amazon\n",
    "* Provides a collection of services for building cloud applications\n",
    "* Service for Storage S3, EBS\n",
    "* computation EC2, scaling and load balancer, elastic map/reduce\n",
    "* Database RDS, DynamoDB, Elasticache\n",
    "* coordination: Simple notification service, simple workflow framework\n",
    "* Amazon EC2:allows to create VMs, connect two or more VMs.\n",
    "* AWS Lambda: compute service that runs your code in response to events and automatically manages the compute resources\n",
    "* Amazon S3: Highly scalable, reliable, and low latency data storage infrastructure.\n",
    "* Amazon has different regions, and user mapped to nearby area for low latency and high availability.\n",
    "* Types of instances\n",
    "    - Micro instances\n",
    "    - General Purpose\n",
    "    - Memory Optimized\n",
    "    - Storage optimized\n",
    "    - Compute optimized\n",
    "    - GPU instances\n",
    "* Run on XEN hypervisor\n",
    "* Micro instances are oversubscribed\n",
    "* Storage and local area network are shared-multitenant\n",
    "\n",
    "### Microsoft\n",
    "* Virtualization provided by Hyper-V\n",
    "* Microsoft Azure is IaaS and PaaS\n",
    "\n",
    "### Google\n",
    "* Google Compute engine IaaS"
   ]
  },
  {
   "cell_type": "markdown",
   "metadata": {},
   "source": [
    "### Serverless Architecture\n",
    "* In response to some event we want to execute something very fast, for example someone call REST API, someone upload file. To response this events I have a written function. I will up to container very fast, execute it and take it down.\n",
    "* Also known as Functions as a service\n",
    "* AWS lambda is one of the most popular implementation of FaaS.\n",
    "* We write function and let cloud platform to figure out how to scale, when to scale, how user data comes. \n",
    "* We pay per instance call of function\n",
    "* AWS Elastic BeanStalk\n",
    "    - WE write program, upload it, AWS handles deployment, auto scaling, health monitoring, load balancing\n",
    "* Lambda is event driven computing. Run stateless (dont keep track of what he has done before)\n",
    "* Focus on business logic, not infrastructure.\n",
    "* Events can come from S3(upload file), dynamoDB (If column changes), Kinesis stream.\n",
    "* Provide 500MB of temp storage.\n",
    "* We can set how much memory function need.\n",
    "* Function should finish in certain time."
   ]
  },
  {
   "cell_type": "markdown",
   "metadata": {},
   "source": [
    "### Metal as a Service (MaaS)\n",
    "* Combines scalability and flexibility of the cloud with the ability of harness power of actual physical servers. People get actual machine NOT VMs. On top of that user can run anything.\n",
    "* Give me new server machine\n",
    "* Install my chosen OS\n",
    "* Configure drive/network/ credentials.\n",
    "* Return server when not needed.\n",
    "* Power is controlled using IPMI (Intelligent Platform management interface).\n",
    "\n",
    "### Google App Engine\n",
    "* Platform as a service\n",
    "* Multi tenancy and offers automatic scaling for web applications\n",
    "* Supports Python, Java, Go\n",
    "* Supports Django and Grails web framework.\n",
    "* Provides infrastructure tools that enable users to deploy code without worrying about infrastructure challenges such as deployment, fail over, scalability\n",
    "* As storage provides App ENgine datastore, Google CLoud SQL, Google cloud storage and Bigtable.\n",
    "* Single sign on service\n",
    "\n",
    "### Web Services\n",
    "![](images/load_balancer.jpg)"
   ]
  },
  {
   "cell_type": "markdown",
   "metadata": {},
   "source": [
    "* Request enters router, load balancing server determine which web server should server the request.\n",
    "* Web services are classfied as middleware, Software that provides services to applications beyond those generally available in OS. Implement functionality that is common across all different application\n",
    "![](images/middleware.jpg)"
   ]
  },
  {
   "cell_type": "markdown",
   "metadata": {},
   "source": [
    "* Within 1 process address space we have set of data and set of methods, object reference ex. pointer, Interface (methods arg type, return type).\n",
    "* In distributed system, we cross multiple process' address spaces.\n",
    "* Remote method invocation means method invocation between objects in different processes. Client application send HTTP request to server backend, that will call appropriate object procedure and result is sent back to client.\n",
    "* RPC is procedure call between functions on different processes. Remote object ares objects that can receive remote invocation.\n",
    "* Remote object reference is identifier that can be used globally throughout a distributed system.\n",
    "* Every remote object has remote interface that specified whichof its methods can be invoked remotely.\n",
    "* Message can be lost or procedure may fail,\n",
    "    - We can retransmit request message.\n",
    "    - Filter out duplicate message at server, during retransmison\n",
    "    - Re execute procedure or retransmit reply, Whether to keep a history of result messages to enable lost result to be retransmitted without re-executing the operation"
   ]
  },
  {
   "cell_type": "markdown",
   "metadata": {},
   "source": [
    "#### HTTP :\n",
    "* Communication protocol\n",
    "* Allows retrieving inter linked text documents\n",
    "![](images/http.jpg)"
   ]
  },
  {
   "cell_type": "markdown",
   "metadata": {},
   "source": [
    "#### SOAP\n",
    "* Simple object access protocol\n",
    "* Like RPC but encoded in HTTP.\n",
    "* Transmitted by HTTP or SMTP.\n",
    "* Coded in XML (can be decoded in any machine)\n",
    "* Return value is any XML document\n",
    "\n",
    "\n",
    "#### REST:\n",
    "* Representational state transfer.\n",
    "* Captures all the characteristics of HTTP, it goes beyond POST and GET, allows PUT and DELETE.\n",
    "* Main concepts is\n",
    "    - There are resources in the system (Nouns). Key abstraction of information is resource. A document or image, Represented with global identifier Ex. http:///www.aircraft.com:1771. It uses URI to identify resources.\n",
    "    - Request is in form of Verbs Ex .GET Represent the actions to be performed on resources GET, POST, PUT, DELETE\n",
    "        - GET : Client ask for information they seek. Invoking GET transfer data from server to client in some representation. `GET URI`\n",
    "        - POST create resource\n",
    "        - PUT update a resource\n",
    "        - DELETE removes resource\n",
    "    - Representation of data. Ex. XML, JSON,\n",
    "![](images/xml_json.jpg)"
   ]
  },
  {
   "cell_type": "markdown",
   "metadata": {},
   "source": [
    "#### SOAP vs REST\n",
    "* SOAP is protocol and REST is architecture"
   ]
  },
  {
   "cell_type": "markdown",
   "metadata": {},
   "source": [
    "#### JSON vs XML\n",
    "* Lightweight data interchange format.\n",
    "![](images/json.jpg)"
   ]
  },
  {
   "cell_type": "markdown",
   "metadata": {},
   "source": [
    "* Both human readable\n",
    "* BOth hierarchical\n",
    "* Json can use arrays. XML has to parsed with XML parser. JSON can be parsed with standard JavaScript function"
   ]
  },
  {
   "cell_type": "markdown",
   "metadata": {},
   "source": [
    "### Load balancer\n",
    "* Determines which web server should serve request.\n",
    "* Sends request to the appropriate web server.\n",
    "* Client send request to IP address, load balancer will change that IP address, to IP address of web server which handle request.\n",
    "![](images/google_Search.jpg)"
   ]
  },
  {
   "cell_type": "markdown",
   "metadata": {},
   "source": [
    "* Scaling, Ease of administration, resource sharing"
   ]
  },
  {
   "cell_type": "markdown",
   "metadata": {},
   "source": [
    "#### Types of load balancer\n",
    "![](images/load_balancer1.jpg)"
   ]
  },
  {
   "cell_type": "markdown",
   "metadata": {},
   "source": [
    "* Least connections: Server with fewest number of flows gets new flow request\n",
    "* Weighted least connections: Associate weight of each server and distribute load across server based on weight\n",
    "* Round robin: Round robin through server  "
   ]
  },
  {
   "cell_type": "markdown",
   "metadata": {},
   "source": [
    "### MBAAS (Mobile backend as a Service)\n",
    "* Mobile app used common service that can be share among apps instead of being custom developed for each.\n",
    "* Enable web and mobile developer to link their apps to backend cloud storage and backend APIs.\n",
    "    - Cloud storage\n",
    "    - User management\n",
    "    - Push notification\n",
    "    - Integration with social media\n",
    "* Provide all these in one shop model.\n",
    "* Appcelerator, AnyPresence, Built.io, Apple CLoudKit, TruMobi"
   ]
  },
  {
   "cell_type": "markdown",
   "metadata": {},
   "source": [
    "### Ceph\n",
    "* Distributed file system.\n",
    "* Performance: Striped data over data servers\n",
    "* Reliability : No singlel point of failure\n",
    "* Scalable\n",
    "* Decopule data and metadata MDS (meta data server), ODS (Object data server).\n",
    "* Dynamic distributed metadata management : Multiple metadata servers handling different directories.\n",
    "* Metadata cluster maps file name to all parts in object storage cluster."
   ]
  },
  {
   "cell_type": "markdown",
   "metadata": {},
   "source": [
    "### BLOB storage\n",
    "* Binary Large OBject (BLOB) is collection of binary data stored as a single entity in DBMS.\n",
    "* Ex. MRI images.\n",
    "* Store unstructured object data like text or binary, images, movies, audio, signal data, large queue of messages\n",
    "* I dont want such large data in my database, at it may decrease join performance. I will just refer(URL) BLOB storage from my database.\n",
    "* Windows Azure blob storage\n",
    "* Ambry-linkedin\n",
    "* S3\n",
    "* Apache open stack blob service (SWIFT)\n",
    "* SWIFT API\n",
    "    - PUT URI\n",
    "    - GET URI\n",
    "* SWIFT write\n",
    "![](images/SWIFT_write.jpg)"
   ]
  },
  {
   "cell_type": "markdown",
   "metadata": {},
   "source": [
    "#### Amazon S3 BLOB Storage\n",
    "* Online file storage web service, provides storage through web service interface REST, SOAP.\n",
    "* Scalability, high available.\n",
    "* Files up to 5 TB.\n",
    "* Objects stored in buckets owned by users.\n",
    "* User assigned keys refer to object (has to be unique)\n",
    "* Amazon machine image stored as BLOB.\n",
    "* A bucket is container for objects and describes location, logging, accounting, access control.\n",
    "* Bucket name must be unique.\n",
    "* A bucket can hold any number of object, which are file up to 5TB.\n",
    "* POST a new object and update existing\n",
    "* GET an existing object from a bucket\n",
    "* DELETE an object from the bucket\n",
    "* LIST keys present in a bucket and filter it.\n",
    "* S3 is weak consistency model\n",
    "    - Achieve high availability by replicating data  across multiple servers. If PUT successful data is safely stored.\n",
    "    - A process write a new object to S3 and immediately attempts to read it. Until the change is fully  propagated S# might say key does not exist\n",
    "    - Creating new object and immediately list keys, that key might not be there\n",
    "    - Replace existing object and try to read it, S3 might send prior data\n",
    "    - Delete object trying to read immediately, S3 might return old data."
   ]
  },
  {
   "cell_type": "markdown",
   "metadata": {},
   "source": [
    "![](images/aws_cli.jpg)"
   ]
  },
  {
   "cell_type": "markdown",
   "metadata": {},
   "source": [
    "### AWS Instance store\n",
    "* S3 is object storage service. In object storage we store complete files, we do not have any other service like typical file storage\n",
    "* Other is block level storage like hard disk. Provide whole bunch of little storage, file system manages this.\n",
    "#### Instance store:\n",
    "* Temporary block-level storage.\n",
    "* Allocated in HDD located in EC2.\n",
    "* If we loose EC2 machine, we will loose access to data.\n",
    "* Offer higher throughput or bandwidth, useful in cache temporary file.\n",
    "* Data persist during lifetime of associated instance, it persists a reboot.\n",
    "* Data lost if underlying HDD fails, instance stop (relaunching could occur on totally different virtual box) or terminate.\n",
    "* We can take backup to S3 or EBS or useful Distributed file system like HDFS\n",
    "\n",
    "\n",
    "### Elastic block store (EBS)\n",
    "* Unlike instance store, accessed over network, but looks like attached to EC2.\n",
    "* Highly available and reliable\n",
    "* Can be attached to running instance in same availability zone.\n",
    "* Persist independently of the life span of instance\n",
    "* Use when data must be quickly accessible and requires long term persistence.\n",
    "* Support encryption.\n",
    "* Upto 16TB\n",
    "* Attach and detach to EC2 instance like we are doing with USB HDD.\n",
    "*  Boot volume, small database\n",
    "\n",
    "### AWS Glacier\n",
    "* Allows to archive data, very low cost $0.007 per GB over a month.\n",
    "* Very durable.\n",
    "* Each single archive up to 40 TB.\n",
    "* Archive is stored in vault.\n",
    "* Main access point to glacier is S#. We can not directly read or write.\n",
    "* Typically takes 3 to 5 hrs to prepare download request, after that we have 24 hrs to download from the staging location.\n"
   ]
  },
  {
   "cell_type": "markdown",
   "metadata": {},
   "source": [
    "### AWS Elastic File System (EFS)\n",
    "* S3 is large and distributed but it is an object storage without performance guarantee and eventual consistency\n",
    "* Block storage are small\n",
    "* EFS provides a fully NFSv4 compliant network file system.\n",
    "* SSD backed, highly available and durable.\n",
    "    * Files and links are redundantly stored across multiple availability zone.\n",
    "* Grow and shrink as needed, no pre-provision capacity requirement"
   ]
  },
  {
   "cell_type": "markdown",
   "metadata": {},
   "source": [
    "### Dropbox\n",
    "* Cloud file storage.\n",
    "* Easily sync device across multiple devices\n",
    "* Accessible through web interface, mobile apps.\n",
    "* Metadata is id dropbox servers\n",
    "* Actual file stored in S3. EC@ instances run the logic.\n",
    "![](images/dropbox.jpg)"
   ]
  },
  {
   "cell_type": "markdown",
   "metadata": {},
   "source": [
    "* Dropbox API\n",
    "    - Drop-ins: cross platform UI components that can be integrated in minutes\n",
    "        - Chooser allows instant access to files in DropBox\n",
    "        - Saver makes saving files to Dropbox easy\n",
    "        - Chooser object allows to download user's dropbox file in apps.Choose returns Link, file name, size, icon,thumbnails\n",
    "        - Saver is used to upload file to user's dropbox. We have to pass URL, file name and options.\n",
    "    - Core PI\n",
    "        - Advanced functionality like search, restore\n",
    "        - Create URL schemes, upload file, download file, list files. metadata access, create and manage file sharing."
   ]
  },
  {
   "cell_type": "code",
   "execution_count": null,
   "metadata": {},
   "outputs": [],
   "source": []
  }
 ],
 "metadata": {
  "kernelspec": {
   "display_name": "Python 3",
   "language": "python",
   "name": "python3"
  },
  "language_info": {
   "codemirror_mode": {
    "name": "ipython",
    "version": 3
   },
   "file_extension": ".py",
   "mimetype": "text/x-python",
   "name": "python",
   "nbconvert_exporter": "python",
   "pygments_lexer": "ipython3",
   "version": "3.7.1"
  }
 },
 "nbformat": 4,
 "nbformat_minor": 2
}
