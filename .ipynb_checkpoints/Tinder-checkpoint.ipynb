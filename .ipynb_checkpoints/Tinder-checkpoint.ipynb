{
 "cells": [
  {
   "cell_type": "markdown",
   "metadata": {},
   "source": [
    "* Store profiles, images in profile (How many images per user?)\n",
    "* Recommend Matches (How many active users are there?)\n",
    "* Note matches (# of users * 10^-3 matches)\n",
    "* Direct messaging\n",
    "* Login + Oath\n",
    "* Swipe\n",
    "* Match\n",
    "* Passport\n",
    "* Push notification\n",
    "* Super likes"
   ]
  },
  {
   "cell_type": "markdown",
   "metadata": {},
   "source": [
    "* 100+ Million downloads\n",
    "* 30 + languages\n",
    "* 20 + billion matches\n",
    "* 1.8 billion swipes every day\n",
    "* 200K dates every day\n",
    "* 50+ Million members"
   ]
  },
  {
   "cell_type": "markdown",
   "metadata": {},
   "source": [
    "* How to store image\n",
    "    - File\n",
    "    - Blob (Binary large object) (Stored in db)\n",
    "- DB provides mutability (We can change specific entry in row). Transactional guarantee(ACID), indexes, Access control\n",
    "- We will change image, but image will change entirely. Better we will save as a file. Transactional property is not needed in image as we will not perform atomic operation. Indexes also not needed, we are not going to search for content of the BLOB (1s and 0s), We can get access control in files too\n",
    "- To store file is cheaper, Faster, as it is static file we can use CDN too.\n",
    "- So in db we store profileId, imageId and file URL (which points to Distributed file system)"
   ]
  },
  {
   "cell_type": "markdown",
   "metadata": {},
   "source": [
    "### Profile Service"
   ]
  },
  {
   "cell_type": "markdown",
   "metadata": {},
   "source": [
    "* Client send uname and password. Also it can handle sending email for validation.\n",
    "![](images/tinder5.PNG)"
   ]
  },
  {
   "cell_type": "markdown",
   "metadata": {},
   "source": [
    "# Chat\n",
    "* We can not use HTTP as it requires request from client, we can not make client like hey is there any msg for me? do such request in loop!!!!\n",
    "* Peer to peer protocol: \n",
    "    - XMPP (Extensible Messaging and Presence Protocol is a communication protocol for message-oriented middleware based on XML. It enables the near-real-time exchange of structured yet extensible data between any two or more network entities.)\n",
    "    - Every machine is equal\n",
    "![](images/tinder6.PNG)"
   ]
  },
  {
   "cell_type": "markdown",
   "metadata": {},
   "source": [
    "* Web Sockets don’t need you to send a request in order to respond. They allow bidirectional data flow so you just have to listen for any data.\n",
    "* Good for real time application, char service, IOT, games"
   ]
  },
  {
   "cell_type": "markdown",
   "metadata": {},
   "source": [
    "# Matcher\n",
    "* Client can store all matched users, if uninstalled can find info from matcher service.\n",
    "* Also swiped left or right can be store at client, no need to store it to db, as if user wipe off the data they will be re recommended the person.\n",
    "*  On swiping left or right, the client can note the action and avoid showing the same user again, perhaps using bloom filters.\n",
    "![](images/tinder8.png)"
   ]
  },
  {
   "cell_type": "markdown",
   "metadata": {},
   "source": [
    "# Recommendation Algo\n",
    "* Active usage (How often user uses app) (Suppose user is not active and still recommend to others and match happens then user A will not reply to that message)\n",
    "* Collect tags : Location, Age, Distance, Gender preference. (Ooath from FB gets info)\n",
    "    - Using image processing and profile info infer some info (Dog lover)\n",
    "* Grouping userbase, user is in one of the bucket from 1 to 10. And matches with the same or near by bucket people\n",
    "    *  Combination of people who likes you as a whole. The people you like and who like you back\n",
    "* Your oickiness / bad actors (all right swipes or all left swipes)\n",
    "* Do you reply? (How willing to talk with matched person)\n",
    "* Progressive taxation (If someone's profile is gets more attention it is normalized to show less, non attentive profile normalize to show more to others so everyone gets a chance) "
   ]
  },
  {
   "cell_type": "markdown",
   "metadata": {},
   "source": [
    "# Recommendation Engine\n",
    "* Should be loaded (low latency)\n",
    "* No real time (new user profile can take some time to be seen by others)\n",
    "* Fast search profiles\n",
    "* Easy to shard profiles/distributed\n",
    "* Full text search (To run NLP on profile data)\n",
    "* HTTP interface?\n",
    "* Structured data (XML, JSON)"
   ]
  },
  {
   "attachments": {},
   "cell_type": "markdown",
   "metadata": {},
   "source": [
    "### Elastic Search\n",
    "* Search system\n",
    "* Index data by columns/keys so we can search the document faster\n",
    "* Storing all data in one cluster with too much indexing can increase latency.\n",
    "* Most of the user will care about the people around them geographically. (there is a setting  of 50 km radius etc.)\n",
    "* So to ease the 1 cluster elastic search we can shard the data geographically.\n",
    "* How to determine at which geographic location we will put server\n",
    "    - Unique user count\n",
    "    - Active user count\n",
    "    - Query count\n",
    "    - Checking latency and performance we can shrink cell size and introduce more servers\n",
    "    - Density\n",
    "    \n",
    "![](images/tinder1.PNG) "
   ]
  },
  {
   "cell_type": "markdown",
   "metadata": {},
   "source": [
    "* Using user's lat long and setting of radius we can get all cells which user can fall into for recommendation\n",
    "    - Google S2"
   ]
  },
  {
   "cell_type": "markdown",
   "metadata": {},
   "source": [
    "* Client makes request to mapper system (Which maps to lat log to geo shard mapper) and gives info about server where data is stored\n",
    "    - For some user whose radius is large. His/Her user info will be stored in the server where he is located, so all user profile queries will go to that server.\n",
    "    - But for recommendation queries mapper knows that it has to go to all near by servers to which are responsible for near by geographic regions."
   ]
  },
  {
   "cell_type": "markdown",
   "metadata": {},
   "source": [
    "* We need to search for recommendation in user table, like age group, location, gender. Indexing optimize the search\n",
    "* Cassandra/DynamoDB also effective.\n",
    "* Use sharding (Horizontal partitioning) in RDBMS.\n",
    "    * To avoid single point of failure use master slave partitioning\n",
    "    * We need to shard data per location."
   ]
  },
  {
   "cell_type": "markdown",
   "metadata": {},
   "source": [
    "# Final Deisign\n",
    "![](images/tinder9.jpg_large)"
   ]
  },
  {
   "cell_type": "code",
   "execution_count": null,
   "metadata": {},
   "outputs": [],
   "source": []
  }
 ],
 "metadata": {
  "kernelspec": {
   "display_name": "Python 3",
   "language": "python",
   "name": "python3"
  },
  "language_info": {
   "codemirror_mode": {
    "name": "ipython",
    "version": 3
   },
   "file_extension": ".py",
   "mimetype": "text/x-python",
   "name": "python",
   "nbconvert_exporter": "python",
   "pygments_lexer": "ipython3",
   "version": "3.7.1"
  },
  "varInspector": {
   "cols": {
    "lenName": 16,
    "lenType": 16,
    "lenVar": 40
   },
   "kernels_config": {
    "python": {
     "delete_cmd_postfix": "",
     "delete_cmd_prefix": "del ",
     "library": "var_list.py",
     "varRefreshCmd": "print(var_dic_list())"
    },
    "r": {
     "delete_cmd_postfix": ") ",
     "delete_cmd_prefix": "rm(",
     "library": "var_list.r",
     "varRefreshCmd": "cat(var_dic_list()) "
    }
   },
   "types_to_exclude": [
    "module",
    "function",
    "builtin_function_or_method",
    "instance",
    "_Feature"
   ],
   "window_display": false
  }
 },
 "nbformat": 4,
 "nbformat_minor": 2
}
