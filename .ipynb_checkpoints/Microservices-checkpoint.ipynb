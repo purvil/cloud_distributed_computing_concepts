{
 "cells": [
  {
   "cell_type": "markdown",
   "metadata": {},
   "source": [
    "* An engineering approach focused on decomposing application into single function modules with well defined interfaces which are independently deployed and operated by small teams who own the entire life cycle of the service.\n",
    "* Accelerate delivery by minimizing communication and coordination between people while reducing scope and risk of change.\n",
    "![](images/microservices.jpg)\n",
    "![](images/microservices1.jpg)"
   ]
  },
  {
   "cell_type": "markdown",
   "metadata": {},
   "source": [
    "* Each module can update itself.\n",
    "* Micro services are throw away things. When instance needed it is created and at the end of use it is destroyed.\n",
    "* Imagine in monolithic application we need to keep up instance of entire application!!!"
   ]
  },
  {
   "cell_type": "markdown",
   "metadata": {},
   "source": [
    "![](images/saas.jpg)"
   ]
  },
  {
   "cell_type": "code",
   "execution_count": null,
   "metadata": {},
   "outputs": [],
   "source": []
  }
 ],
 "metadata": {
  "kernelspec": {
   "display_name": "Python 3",
   "language": "python",
   "name": "python3"
  },
  "language_info": {
   "codemirror_mode": {
    "name": "ipython",
    "version": 3
   },
   "file_extension": ".py",
   "mimetype": "text/x-python",
   "name": "python",
   "nbconvert_exporter": "python",
   "pygments_lexer": "ipython3",
   "version": "3.7.1"
  }
 },
 "nbformat": 4,
 "nbformat_minor": 2
}
