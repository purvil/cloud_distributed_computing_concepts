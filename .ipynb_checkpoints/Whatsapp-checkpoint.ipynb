{
 "cells": [
  {
   "cell_type": "markdown",
   "metadata": {},
   "source": [
    "* WeChat, FB Messanger\n",
    "* text-based instant messaging services to its users. Messenger users can chat with their Facebook friends both from cell-phones and Facebook’s website."
   ]
  },
  {
   "cell_type": "markdown",
   "metadata": {},
   "source": [
    "# Features\n",
    "* Messenger should support one-on-one conversations between users.\n",
    "* Send, Delivered and read confirmation\n",
    "* Push notification\n",
    "* Messenger should keep track of the online/offline statuses of its users.\n",
    "* Messenger should support the persistent storage of chat history.\n",
    "\n",
    "### Non Functional\n",
    "* Users should have real-time chat experience with minimum latency.\n",
    "* Our system should be highly consistent; users should be able to see the same chat history on all their devices.\n",
    "* Messenger’s high availability is desirable; we can tolerate lower availability in the interest of consistency.\n",
    "\n",
    "### Extended\n",
    "* Group Chats: Messenger should support multiple people talking to each other in a group.\n",
    "* "
   ]
  },
  {
   "cell_type": "markdown",
   "metadata": {},
   "source": [
    "* If other party is not online, as soon as party comes online msg has to delivered to him/her."
   ]
  },
  {
   "cell_type": "markdown",
   "metadata": {},
   "source": [
    "# Capacity Estimation and Constraints"
   ]
  },
  {
   "cell_type": "code",
   "execution_count": null,
   "metadata": {},
   "outputs": [],
   "source": []
  }
 ],
 "metadata": {
  "kernelspec": {
   "display_name": "Python 3",
   "language": "python",
   "name": "python3"
  },
  "language_info": {
   "codemirror_mode": {
    "name": "ipython",
    "version": 3
   },
   "file_extension": ".py",
   "mimetype": "text/x-python",
   "name": "python",
   "nbconvert_exporter": "python",
   "pygments_lexer": "ipython3",
   "version": "3.7.1"
  },
  "varInspector": {
   "cols": {
    "lenName": 16,
    "lenType": 16,
    "lenVar": 40
   },
   "kernels_config": {
    "python": {
     "delete_cmd_postfix": "",
     "delete_cmd_prefix": "del ",
     "library": "var_list.py",
     "varRefreshCmd": "print(var_dic_list())"
    },
    "r": {
     "delete_cmd_postfix": ") ",
     "delete_cmd_prefix": "rm(",
     "library": "var_list.r",
     "varRefreshCmd": "cat(var_dic_list()) "
    }
   },
   "types_to_exclude": [
    "module",
    "function",
    "builtin_function_or_method",
    "instance",
    "_Feature"
   ],
   "window_display": false
  }
 },
 "nbformat": 4,
 "nbformat_minor": 2
}
