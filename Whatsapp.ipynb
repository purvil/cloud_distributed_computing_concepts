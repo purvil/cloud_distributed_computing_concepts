{
 "cells": [
  {
   "cell_type": "markdown",
   "metadata": {},
   "source": [
    "* WeChat, FB Messanger\n",
    "* text-based instant messaging services to its users. Messenger users can chat with their Facebook friends both from cell-phones and Facebook’s website."
   ]
  },
  {
   "cell_type": "markdown",
   "metadata": {},
   "source": [
    "# Features\n",
    "* Messenger should support one-on-one conversations between users.\n",
    "* Send, Delivered and read confirmation\n",
    "* Push notification\n",
    "* Messenger should keep track of the online/offline statuses of its users.\n",
    "* Messenger should support the persistent storage of chat history.\n",
    "\n",
    "### Non Functional\n",
    "* Users should have real-time chat experience with minimum latency.\n",
    "* Our system should be highly consistent; users should be able to see the same chat history on all their devices.\n",
    "* Messenger’s high availability is desirable; we can tolerate lower availability in the interest of consistency.\n",
    "\n",
    "### Extended\n",
    "* Group Chats: Messenger should support multiple people talking to each other in a group."
   ]
  },
  {
   "cell_type": "markdown",
   "metadata": {},
   "source": [
    "* If other party is not online, as soon as party comes online msg has to delivered to him/her."
   ]
  },
  {
   "cell_type": "markdown",
   "metadata": {},
   "source": [
    "# Capacity Estimation and Constraints"
   ]
  },
  {
   "cell_type": "markdown",
   "metadata": {},
   "source": [
    "* Let’s assume that we have 500 million daily active users and on average each user sends 40 messages daily; this gives us 20 billion messages per day.\n",
    "* Storage Estimation: Let’s assume that on average a message is 100 bytes, so to store all the messages for one day we would need 2TB of storage.\n",
    "* To store five years of chat history, we would need 3.6 petabytes of storage.\n",
    "* Other than the chat messages, we would also need to store users’ information, messages’ metadata (ID, Timestamp, etc.). Not to mention, the above calculation doesn’t take data compression and replication into consideration.\n",
    "* Bandwidth Estimation: If our service is getting 2TB of data every day, this will give us 25MB of incoming data for each second.\n",
    "* Since each incoming message needs to go out to another user, we will need the same amount of bandwidth 25MB/s for both upload and download."
   ]
  },
  {
   "cell_type": "markdown",
   "metadata": {},
   "source": [
    "# High level Design"
   ]
  },
  {
   "cell_type": "markdown",
   "metadata": {},
   "source": [
    "* chat server that will be the central piece, orchestrating all the communications between users. When a user wants to send a message to another user, they will connect to the chat server and send the message to the server; the server then passes that message to the other user and also stores it in the database."
   ]
  },
  {
   "cell_type": "markdown",
   "metadata": {},
   "source": [
    "![](images/whatsapp1.PNG)"
   ]
  },
  {
   "cell_type": "markdown",
   "metadata": {},
   "source": [
    "![](images/whatsapp2.PNG)"
   ]
  },
  {
   "cell_type": "markdown",
   "metadata": {},
   "source": [
    "* User-A sends a message to User-B through the chat server.\n",
    "* The server receives the message and sends an acknowledgment to User-A.\n",
    "* The server stores the message in its database and sends the message to User-B.\n",
    "* User-B receives the message and sends the acknowledgment to the server.\n",
    "* The server notifies User-A that the message has been delivered successfully to User-B."
   ]
  },
  {
   "cell_type": "markdown",
   "metadata": {},
   "source": [
    "# Detailed Component Design"
   ]
  },
  {
   "cell_type": "markdown",
   "metadata": {},
   "source": [
    "* Let’s try to build a simple solution first where everything runs on one server. At the high level our system needs to handle the following use cases:\n",
    "    - Receive incoming messages and deliver outgoing messages.\n",
    "    - Store and retrieve messages from the database.\n",
    "    - Keep a record of which user is online or has gone offline, and notify all the relevant users about these status changes.\n",
    "\n",
    "## Message Handling\n",
    "* "
   ]
  },
  {
   "cell_type": "code",
   "execution_count": null,
   "metadata": {},
   "outputs": [],
   "source": []
  }
 ],
 "metadata": {
  "kernelspec": {
   "display_name": "Python 3",
   "language": "python",
   "name": "python3"
  },
  "language_info": {
   "codemirror_mode": {
    "name": "ipython",
    "version": 3
   },
   "file_extension": ".py",
   "mimetype": "text/x-python",
   "name": "python",
   "nbconvert_exporter": "python",
   "pygments_lexer": "ipython3",
   "version": "3.7.1"
  },
  "varInspector": {
   "cols": {
    "lenName": 16,
    "lenType": 16,
    "lenVar": 40
   },
   "kernels_config": {
    "python": {
     "delete_cmd_postfix": "",
     "delete_cmd_prefix": "del ",
     "library": "var_list.py",
     "varRefreshCmd": "print(var_dic_list())"
    },
    "r": {
     "delete_cmd_postfix": ") ",
     "delete_cmd_prefix": "rm(",
     "library": "var_list.r",
     "varRefreshCmd": "cat(var_dic_list()) "
    }
   },
   "types_to_exclude": [
    "module",
    "function",
    "builtin_function_or_method",
    "instance",
    "_Feature"
   ],
   "window_display": false
  }
 },
 "nbformat": 4,
 "nbformat_minor": 2
}
